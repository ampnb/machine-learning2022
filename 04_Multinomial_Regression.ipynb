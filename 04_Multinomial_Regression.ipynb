{
  "cells": [
    {
      "cell_type": "markdown",
      "metadata": {
        "id": "view-in-github",
        "colab_type": "text"
      },
      "source": [
        "<a href=\"https://colab.research.google.com/github/ampnb/machine-learning2022/blob/main/04_Multinomial_Regression.ipynb\" target=\"_parent\"><img src=\"https://colab.research.google.com/assets/colab-badge.svg\" alt=\"Open In Colab\"/></a>"
      ]
    },
    {
      "cell_type": "markdown",
      "metadata": {
        "id": "99iOlhL_DEQW"
      },
      "source": [
        "Before you turn this problem in, make sure everything runs as expected. First, **restart the kernel** (in the menubar, select Kernel$\\rightarrow$Restart) and then **run all cells** (in the menubar, select Cell$\\rightarrow$Run All).\n",
        "\n",
        "Make sure you fill in any place that says `YOUR CODE HERE` or \"YOUR ANSWER HERE\", as well as your name and collaborators below:"
      ]
    },
    {
      "cell_type": "code",
      "execution_count": null,
      "metadata": {
        "id": "cXZwjrRuDEQZ"
      },
      "outputs": [],
      "source": [
        "NAME = \"Wanchanok Sunthorn\"\n",
        "ID = \"st122053\""
      ]
    },
    {
      "cell_type": "markdown",
      "metadata": {
        "id": "HQxaUJrkDEQb"
      },
      "source": [
        "---"
      ]
    },
    {
      "cell_type": "markdown",
      "metadata": {
        "id": "lMqTVdu7DEQb"
      },
      "source": [
        "# Machine Learning Lab 04: Multinomial Logistic Regression\n"
      ]
    },
    {
      "cell_type": "markdown",
      "metadata": {
        "id": "aH9KPCPpDEQb"
      },
      "source": [
        "## Generalized Linear Models\n",
        "\n",
        "From lecture, we know that members of the exponential family distributions can be written in the form\n",
        "$$p(y;\\eta) = b(y)e^{(\\eta^\\top T(y)-a(\\eta))},$$\n",
        "where\n",
        "- $\\eta$ is the natural parameter or canonical paramter of the distribution,\n",
        "- $T(y)$ is the sufficient statistic (we normally use $T(y) = y$),\n",
        "- $b(y)$ is an arbitrary scalar function of y, and\n",
        "- $a(\\eta)$ is the log partition function. We use $e^{a(\\eta)}$ just to normalize the distribution to have a sum or integral of 1.\n",
        "\n",
        "Each choice of $T$, $a$, and $b$ defines a family (set) of distributions parameterized by $\\eta$.\n",
        "\n",
        "If we can write $p(y \\mid \\mathbf{x} ; \\theta)$ as a member of the exponential family of distributions with parameters $\\mathbf{\\eta}$ with\n",
        "$\\eta_i = \\theta^\\top_i \\mathbf{x}$, we obtain a *generalized linear model* that can be optimized using the maximum likelihood principle.\n",
        "\n",
        "The GLM for the Gaussian distribution with natural parameter $\\eta$ being the mean of the Gaussian gives us ordinary linear regression.\n",
        "\n",
        "The Bernoulli distribution with parameter $\\phi$ can be written as an exponential distribution\n",
        "with natural parmeter $\\eta = \\log \\frac{\\phi}{1-\\phi}$. The GLM for this distribution is logistic regression.\n",
        "\n",
        "When we write the multinomial distribution with paremeters $\\phi_i > 0$ for classes $i \\in 1..K$ with the constraint that\n",
        "$$\\sum_{i=1}^{K} \\phi_i = 1$$ as a member of the exponential family,\n",
        "the resulting GLM is called *multinomial logistic regression*. The parameters $\\phi_1, \\ldots, \\phi_K$ are written\n",
        "in terms of $\\theta$ as\n",
        "$$\\phi_i = p(y = i \\mid \\mathbf{x}; \\theta) = \\frac{e^{\\theta^\\top_i \\mathbf{x}}}{\\sum_{j=1}^{K}e^{\\theta^\\top_j \\mathbf{x}}}. $$"
      ]
    },
    {
      "cell_type": "markdown",
      "metadata": {
        "id": "o-1455GnDEQc"
      },
      "source": [
        "## Optimizing a Multinomial Regression Model\n",
        "\n",
        "In multinomial regression, we have\n",
        "\n",
        "1. Data are pairs $\\mathbf{x}^{(i)}, y^{(i)}$ with $\\mathbf{x}^{(i)} \\in \\mathbb{R}^n$ and\n",
        "   $y \\in 1..K$.\n",
        "   \n",
        "2. The hypothesis is a vector-valued function\n",
        "$$\\mathbf{h}_\\theta(\\mathbf{x}) = \\begin{bmatrix} p(y = 1 \\mid \\mathbf{x} ; \\theta) \\\\\n",
        "                                         p(y = 2 \\mid \\mathbf{x} ; \\theta) \\\\\n",
        "                                         \\vdots \\\\\n",
        "                                         p(y = K \\mid \\mathbf{x} ; \\theta) \\end{bmatrix},$$\n",
        "    where $$p(y = i \\mid \\mathbf{x}) = \\phi_i = p(y = i \\mid \\mathbf{x}; \\theta) = \\frac{e^{\\theta^\\top_i \\mathbf{x}}}{\\sum_{j=1}^{K}e^{\\theta^\\top_j \\mathbf{x}}}. $$\n",
        "\n",
        "We need a cost function and a way to minimize that cost function. As usual, we try to find the parameters maximizing the likelihood or log likelihood function, or equivalently, minimizing the negative log likelihood function:\n",
        "\n",
        "$$\\theta^* = \\text{argmax}_\\theta {\\cal L}(\\theta) =\n",
        "             \\text{argmax}_\\theta \\ell(\\theta) =\n",
        "             \\text{argmin}_\\theta J(\\theta),$$\n",
        "where\n",
        "$$\\begin{eqnarray}\n",
        "   J(\\theta) & = & - \\ell(\\theta) \\\\\n",
        "   & = & - \\sum_{i=1}^m \\log p(y^{(i)} \\mid \\textbf{x}^{(i)} ; \\theta).\n",
        "   \\end{eqnarray}$$\n",
        "\n",
        "Now that we know what is $J(\\theta)$, let's try to find its minimimum by taking the derivatives with respect to an arbitrary parameter $\\theta_{kl}$, the $l$-th element of the parameter vector $\\theta_k$ for class $k$. Before we start, let's define a variable $a_k$ as the linear activation for class $k$ in the softmax function:\n",
        "$$ a_k = \\theta_k^\\top \\mathbf{x}^{(i)}, $$\n",
        "and rewrite the softmax more conveniently as\n",
        "$$ \\phi_k = \\frac{e^{a_k}}{\\sum_{j=1}^K e^{a_j}}. $$\n",
        "That makes it a little easier to compute the gradient:\n",
        "$$\\begin{eqnarray}\n",
        "   \\frac{\\partial J}{\\partial \\theta_{kl}} & = & - \\sum_{i=1}^m \\frac{1}{\\phi_{y^{(i)}}} \\frac{\\partial \\phi_{y^{(i)}}}{\\partial \\theta_{kl}}. \\\\\n",
        "   \\end{eqnarray}$$\n",
        "Using the chain rule, we have\n",
        "$$\\frac{\\partial \\phi_{y^{(i)}}}{\\partial \\theta_{kl}} = \\sum_{j=1}^K \\frac{\\partial \\phi_{y^{(i)}}}{\\partial a_j} \\frac{\\partial a_j}{\\partial \\theta_{kl}}$$\n",
        "The second factor is easy:\n",
        "$$ \\frac{\\partial a_j}{\\partial \\theta_{kl}} = \\delta(k=j)x^{(i)}_l. $$\n",
        "For the first factor, we have\n",
        "$$\\begin{eqnarray}\n",
        "\\frac{\\partial \\phi_{y^{(i)}}}{\\partial a_j}\n",
        "& = & \\frac{ \\left[ \\delta(y^{(i)}=j)e^{a_j} \\sum_{c=1}^K e^{a_c} \\right] - e^{a_j} e^{a_j} }{\\left[ \\sum_{c=1}^K e^{a_c} \\right]^2} \\\\\n",
        "& = & \\delta(y^{(i)}=j) \\phi_j - \\phi_j^2\n",
        "\\end{eqnarray}$$\n",
        "\n",
        "Substituting what we've derived into the definition above, we obtain\n",
        "$$ \\frac{\\partial J}{\\theta_{kl}} = - \\sum_{i=1}^m \\sum_{j=1}^K (\\delta(y^{(i)}=j) - \\phi_j) \\frac{\\partial a_j}{\\partial \\theta_{kl}}. $$\n",
        "\n",
        "There are two ways to do the calculation.\n",
        "In deep neural networks with multinomial outputs, we want to first calculate the $\\frac{\\partial J}{\\partial a_j}$ terms then use them to calculate $\\frac{\\partial J}{\\partial \\theta_{kl}}$.\n",
        "\n",
        "However, if we only have the \"single layer\" model described up till now, we note\n",
        "that\n",
        "$$\\frac{\\partial a_j}{\\partial \\theta_{kl}} = \\delta(j=k) x^{(i)}_l,$$\n",
        "so we can simplify as follows:\n",
        "$$\\begin{eqnarray}\n",
        "  \\frac{\\partial J}{\\theta_{kl}} & = & - \\sum_{i=1}^m \\sum_{j=1}^K (\\delta(y^{(i)}=j) - \\phi_j) \\frac{\\partial a_j}{\\partial \\theta_{kl}} \\\\\n",
        "  & = & - \\sum_{i=1}^m \\sum_{j=1}^K (\\delta(y^{(i)}=j) - \\phi_j) \\delta(j=k) x^{(i)}_l \\\\\n",
        "  & = & - \\sum_{i=1}^m (\\delta(y^{(i)}=k) - \\phi_k) x^{(i)}_l \\\\\n",
        "  \\end{eqnarray}$$"
      ]
    },
    {
      "cell_type": "markdown",
      "metadata": {
        "id": "CCAbQdPaDEQe"
      },
      "source": [
        "## Put It Together\n",
        "\n",
        "OK! Now we have all 4 criteria for our multinomial regression model:\n",
        "\n",
        "1. Data are pairs $\\mathbf{x}^{(i)}, y^{(i)}$ with $\\mathbf{x}^{(i)} \\in \\mathbb{R}^n$ and\n",
        "   $y \\in 1..K$.\n",
        "   \n",
        "2. The hypothesis is a vector-valued function\n",
        "$$\\mathbf{h}_\\theta(\\mathbf{x}) = \\begin{bmatrix} p(y = 1 \\mid \\mathbf{x} ; \\theta) \\\\\n",
        "                                         p(y = 2 \\mid \\mathbf{x} ; \\theta) \\\\\n",
        "                                         \\vdots \\\\\n",
        "                                         p(y = K \\mid \\mathbf{x} ; \\theta) \\end{bmatrix},$$\n",
        "    where $$p(y = i \\mid \\mathbf{x}) = \\phi_i = p(y = i \\mid \\mathbf{x}; \\theta) = \\frac{e^{\\theta^\\top_i \\mathbf{x}}}{\\sum_{j=1}^{K}e^{\\theta^\\top_j \\mathbf{x}}}. $$\n",
        "    \n",
        "3. The cost function is\n",
        "   $$J(\\theta) = - \\sum_{i=1}^m \\log p(y^{(i)} \\mid \\textbf{x}^{(i)})$$\n",
        "   \n",
        "4. The optimization algorithm is gradient descent on $J(\\theta)$ with the update rule\n",
        "   $$\\theta_{kl}^{(n+1)} \\leftarrow \\theta_{kl}^{(n)} - \\alpha \\sum_{i=1}^m (\\delta(y^{(i)}=k) - \\phi_k) x^{(i)}_l.$$\n"
      ]
    },
    {
      "cell_type": "markdown",
      "metadata": {
        "id": "fyS19itBDEQf"
      },
      "source": [
        "## Multinomial Regression Example\n",
        "\n",
        "The following example of multinomial logistic regression is from [Kaggle](https://www.kaggle.com/saksham219/softmax-regression-for-iris-classification).\n",
        "\n",
        "The data set is the famous [Iris dataset from the UCI machine learning repository](https://archive.ics.uci.edu/ml/datasets/iris).\n",
        "\n",
        "The data contain 50 samples from each of three classes. Each class refers to a particular species of the iris plant. \n",
        "The data include four independent variables:\n",
        "1. Sepal length in cm\n",
        "2. Sepal width in cm\n",
        "3. Petal length in cm\n",
        "4. Petal width in cm\n",
        "\n",
        "The target takes on one of three classes:\n",
        "1. Iris Setosa\n",
        "2. Iris Versicolour\n",
        "3. Iris Virginica\n",
        "   \n",
        "To predict the target value, we use multinomial logistic regression for $k=3$ classes i.e. $y \\in \\{ 1, 2, 3 \\}$. \n",
        "\n",
        "Given $\\mathbf{x}$, we would like to predict a probability distribution over the\n",
        "three outcomes for $y$, i.e., $\\phi_1 = p(y=1 \\mid \\mathbf{x})$, $\\phi_2 = p(y=2 \\mid \\mathbf{x})$, and $\\phi_3 = p(y=3 \\mid \\mathbf{x})$.\n"
      ]
    },
    {
      "cell_type": "code",
      "execution_count": null,
      "metadata": {
        "id": "o7fmELQXDEQf"
      },
      "outputs": [],
      "source": [
        "# importing libraries\n",
        "import numpy as np\n",
        "import pandas as pd \n",
        "import random\n",
        "import math"
      ]
    },
    {
      "cell_type": "markdown",
      "metadata": {
        "id": "_zW5kW32DEQg"
      },
      "source": [
        "The `phi` function returns $\\phi_i$ for input patterns $\\mathtt{X}$ and parameters $\\theta$."
      ]
    },
    {
      "cell_type": "code",
      "execution_count": null,
      "metadata": {
        "id": "gVf4ezwNDEQg"
      },
      "outputs": [],
      "source": [
        "def phi(i, theta, X, num_class):\n",
        "    \"\"\"\n",
        "    Here is how to make documentation for your function show up in intellisense.\n",
        "    Explanation you put here will be shown when you use it.\n",
        "    \n",
        "    To get intellisense in your Jupyter notebook:\n",
        "        - Press 'TAB' after typing a dot (.) to see methods and attributes\n",
        "        - Press 'Shift+TAB' after typing a function name to see its documentation\n",
        "\n",
        "    The `phi` function returns phi_i = h_theta(x) for input patterns X and parameters theta.\n",
        "    \n",
        "    Inputs:\n",
        "        i=index of phi\n",
        "        \n",
        "        X=input dataset\n",
        "        \n",
        "        theta=parameters\n",
        "\n",
        "    Returns:\n",
        "        phi_i\n",
        "    \"\"\"\n",
        "    mat_theta = np.matrix(theta[i])\n",
        "    mat_x = np.matrix(X)\n",
        "    num = math.exp(np.dot(mat_theta, mat_x.T))\n",
        "    den = 0\n",
        "    for j in range(0,num_class):\n",
        "        mat_theta_j = np.matrix(theta[j])\n",
        "        den = den + math.exp(np.dot(mat_theta_j, mat_x.T))\n",
        "    phi_i = num / den\n",
        "    return phi_i"
      ]
    },
    {
      "cell_type": "markdown",
      "metadata": {
        "deletable": false,
        "editable": false,
        "nbgrader": {
          "cell_type": "markdown",
          "checksum": "7bbfb7d7db673b01e26f88fec69cd486",
          "grade": false,
          "grade_id": "cell-f6c98aabf4060a6e",
          "locked": true,
          "schema_version": 3,
          "solution": false,
          "task": false
        },
        "id": "FpDZJ98XDEQg"
      },
      "source": [
        "**Tips for using intellisense: Shift+TAB**\n",
        "\n",
        "![lab4-01.png](attachment:lab4-01.png)"
      ]
    },
    {
      "cell_type": "markdown",
      "metadata": {
        "id": "mrKOFEUdDEQh"
      },
      "source": [
        "The `grad_cost` function gives the gradient of the cost for data $\\mathtt{X}, \\mathbf{y}$ for class $j\\in 1..k$."
      ]
    },
    {
      "cell_type": "code",
      "execution_count": null,
      "metadata": {
        "id": "XB9tgaSyDEQh"
      },
      "outputs": [],
      "source": [
        "def indicator(i, j):\n",
        "    '''\n",
        "    Check whether i is equal to j\n",
        "    \n",
        "    Return:\n",
        "        1 when i=j, otherwise 0\n",
        "    '''\n",
        "    if i == j: return 1\n",
        "    else: return 0\n",
        "\n",
        "\n",
        "def grad_cost(X, y, j, theta, num_class):\n",
        "    '''\n",
        "    Compute the gradient of the cost function for data X, y for parameters of\n",
        "    output for class j in 1..k\n",
        "    '''\n",
        "    m, n = X.shape\n",
        "    sum = np.array([0 for i in range(0,n)])\n",
        "    for i in range(0, m):\n",
        "        p = indicator(y.iloc[i], j) - phi(j, theta, X.iloc[i], num_class)\n",
        "        sum = sum + (X.iloc[i] * p)\n",
        "    grad = -sum / m\n",
        "    return grad\n",
        "\n",
        "def gradient_descent(X, y, theta, alpha, iters, num_class):\n",
        "    '''\n",
        "    Perform iters iterations of gradient descent: theta_new = theta_old - alpha * cost\n",
        "    '''\n",
        "    n = X.shape[1]\n",
        "    for iter in range(iters):\n",
        "        dtheta = np.zeros((num_class, n))\n",
        "        for j in range(0, num_class):\n",
        "            dtheta[j,:] = grad_cost(X, y, j, theta, num_class)\n",
        "        theta = theta - alpha * dtheta\n",
        "    return theta\n",
        "\n",
        "def h(X, theta, num_class):\n",
        "    '''\n",
        "    Hypothesis function: h_theta(X) = theta * X\n",
        "    '''\n",
        "    X = np.matrix(X)\n",
        "    h_matrix = np.empty((num_class,1))\n",
        "    den = 0\n",
        "    for j in range(0, num_class):\n",
        "        den = den + math.exp(np.dot(theta[j], X.T))\n",
        "    for i in range(0,num_class):\n",
        "        h_matrix[i] = math.exp(np.dot(theta[i], X.T))\n",
        "    h_matrix = h_matrix / den\n",
        "    return h_matrix"
      ]
    },
    {
      "cell_type": "markdown",
      "metadata": {
        "deletable": false,
        "editable": false,
        "nbgrader": {
          "cell_type": "markdown",
          "checksum": "ae6bc59fd16f769612e9610237a581c7",
          "grade": false,
          "grade_id": "cell-7ef5fafee187b7b0",
          "locked": true,
          "schema_version": 3,
          "solution": false,
          "task": false
        },
        "id": "--SLKr8ODEQh"
      },
      "source": [
        "## Exercise 1.1 (5 points)\n",
        "\n",
        "Create a function to load **data** from **Iris.csv** using the Pandas library and extract y from the data.\n",
        "\n",
        "You can use [the Pandas 10 minute guide](https://pandas.pydata.org/pandas-docs/stable/user_guide/10min.html) to learn how to use pandas."
      ]
    },
    {
      "cell_type": "code",
      "execution_count": null,
      "metadata": {
        "deletable": false,
        "nbgrader": {
          "cell_type": "code",
          "checksum": "628cb1c0a7d70ab1055c7b3517979f8b",
          "grade": false,
          "grade_id": "cell-d063fd66918f3b47",
          "locked": false,
          "schema_version": 3,
          "solution": true,
          "task": false
        },
        "id": "_mZxma8bDEQi"
      },
      "outputs": [],
      "source": [
        "def load_data(file_name, drop_label, y_label, is_print=False):\n",
        "    # 1. Load csv file\n",
        "    data = pd.read_csv(file_name)\n",
        "    if is_print:\n",
        "        print(data.head())\n",
        "    # 2. remove 'Id' column from data\n",
        "    if drop_label is not None:\n",
        "        data = data.drop([drop_label],axis=1)\n",
        "        if is_print:\n",
        "            print(data.head())\n",
        "    # 3. Extract y_label column as y from data\n",
        "    y = data[y_label]\n",
        "    # 4. get index of y-column\n",
        "    y_index = data.columns.get_loc(y_label)\n",
        "    # 5. Extrack X features from data\n",
        "    X = data.iloc[:,:y_index]\n",
        "    # YOUR CODE HERE\n",
        "    #raise NotImplementedError()\n",
        "    return X, y"
      ]
    },
    {
      "cell_type": "code",
      "execution_count": null,
      "metadata": {
        "deletable": false,
        "editable": false,
        "nbgrader": {
          "cell_type": "code",
          "checksum": "e754d7fcc097ad58a8f5cb616fec5605",
          "grade": true,
          "grade_id": "cell-7b5c0f18770fbccb",
          "locked": true,
          "points": 5,
          "schema_version": 3,
          "solution": false,
          "task": false
        },
        "colab": {
          "base_uri": "https://localhost:8080/"
        },
        "id": "JQMaf98fDEQi",
        "outputId": "9f317e0d-254c-483c-98a0-40adde3814d2"
      },
      "outputs": [
        {
          "output_type": "stream",
          "name": "stdout",
          "text": [
            "   Id  SepalLengthCm  SepalWidthCm  PetalLengthCm  PetalWidthCm      Species\n",
            "0   1            5.1           3.5            1.4           0.2  Iris-setosa\n",
            "1   2            4.9           3.0            1.4           0.2  Iris-setosa\n",
            "2   3            4.7           3.2            1.3           0.2  Iris-setosa\n",
            "3   4            4.6           3.1            1.5           0.2  Iris-setosa\n",
            "4   5            5.0           3.6            1.4           0.2  Iris-setosa\n",
            "   SepalLengthCm  SepalWidthCm  PetalLengthCm  PetalWidthCm      Species\n",
            "0            5.1           3.5            1.4           0.2  Iris-setosa\n",
            "1            4.9           3.0            1.4           0.2  Iris-setosa\n",
            "2            4.7           3.2            1.3           0.2  Iris-setosa\n",
            "3            4.6           3.1            1.5           0.2  Iris-setosa\n",
            "4            5.0           3.6            1.4           0.2  Iris-setosa\n",
            "   SepalLengthCm  SepalWidthCm  PetalLengthCm  PetalWidthCm\n",
            "0            5.1           3.5            1.4           0.2\n",
            "1            4.9           3.0            1.4           0.2\n",
            "2            4.7           3.2            1.3           0.2\n",
            "3            4.6           3.1            1.5           0.2\n",
            "4            5.0           3.6            1.4           0.2\n",
            "0    Iris-setosa\n",
            "1    Iris-setosa\n",
            "2    Iris-setosa\n",
            "3    Iris-setosa\n",
            "4    Iris-setosa\n",
            "Name: Species, dtype: object\n",
            "success!\n"
          ]
        }
      ],
      "source": [
        "X, y = load_data('Iris.csv', 'Id', 'Species', True)\n",
        "print(X.head())\n",
        "print(y[:5])\n",
        "\n",
        "# Test function: Do not remove\n",
        "# tips: this is how to create dataset using pandas\n",
        "d_ex = {'ID':     [  1,   2,   3,    4,    5,    6,    7],\n",
        "        'Grade':  [3.5, 2.5, 3.0, 3.75, 2.83, 3.95, 2.68],\n",
        "        'Type':   ['A', 'B', 'C',  'A',  'C',  'A',  'B']\n",
        "        }\n",
        "df = pd.DataFrame (d_ex, columns = ['ID','Grade', 'Type'])\n",
        "df.to_csv('out.csv', index=False)\n",
        "\n",
        "Xtest, ytest = load_data('out.csv', 'ID', 'Type')\n",
        "assert len(Xtest.columns) == 1, 'number of X_columns incorrect (1)'\n",
        "assert ytest.name == 'Type', 'Extract y_column is incorrect (1)'\n",
        "assert ytest.shape == (7,), 'number of y is incorrect (1)'\n",
        "assert 'Grade' in Xtest.columns, 'Incorrect columns in X (1)'\n",
        "Xtest, ytest = load_data('out.csv', None, 'Type')\n",
        "assert len(Xtest.columns) == 2, 'number of X_columns incorrect (2)'\n",
        "assert ytest.name == 'Type', 'Extract y_column is incorrect (2)'\n",
        "assert ytest.shape == (7,), 'number of y is incorrect (2)'\n",
        "assert 'Grade' in Xtest.columns and 'ID' in Xtest.columns, 'Incorrect columns in X (2)'\n",
        "import os\n",
        "os.remove('out.csv')\n",
        "\n",
        "assert len(X.columns) == 4, 'number of X_columns incorrect (3)'\n",
        "assert 'SepalWidthCm' in X.columns and 'Id' not in X.columns and 'Species' not in X.columns, 'Incorrect columns in X (3)'\n",
        "assert y.name == 'Species', 'Extract y_column is incorrect (3)'\n",
        "assert y.shape == (150,), 'number of y is incorrect (3)'\n",
        "\n",
        "print(\"success!\")\n",
        "# End Test function"
      ]
    },
    {
      "cell_type": "markdown",
      "metadata": {
        "deletable": false,
        "editable": false,
        "nbgrader": {
          "cell_type": "markdown",
          "checksum": "a30e2254d1c1f2935402bbb25f7cbf8c",
          "grade": false,
          "grade_id": "cell-2549563cd9338d95",
          "locked": true,
          "schema_version": 3,
          "solution": false,
          "task": false
        },
        "id": "vgu5c4o2DEQi"
      },
      "source": [
        "**Expected result**: \\\n",
        "   SepalLengthCm  SepalWidthCm  PetalLengthCm  PetalWidthCm \\\n",
        "0            5.1           3.5            1.4           0.2\\\n",
        "1            4.9           3.0            1.4           0.2\\\n",
        "2            4.7           3.2            1.3           0.2\\\n",
        "3            4.6           3.1            1.5           0.2\\\n",
        "4            5.0           3.6            1.4           0.2\\\n",
        "0    Iris-setosa\\\n",
        "1    Iris-setosa\\\n",
        "2    Iris-setosa\\\n",
        "3    Iris-setosa\\\n",
        "4    Iris-setosa\\\n",
        "Name: Species, dtype: object"
      ]
    },
    {
      "cell_type": "markdown",
      "metadata": {
        "deletable": false,
        "editable": false,
        "nbgrader": {
          "cell_type": "markdown",
          "checksum": "1bce059019c7763d77c2f095596f67ec",
          "grade": false,
          "grade_id": "cell-507051f801249765",
          "locked": true,
          "schema_version": 3,
          "solution": false,
          "task": false
        },
        "id": "fXdBtFqfDEQi"
      },
      "source": [
        "## Exercise 1.2 (10 points)\n",
        "\n",
        "Partition data into training and test sets\n",
        "- No need to use random.seed function!\n",
        "- Ensure that the train set is 70% and the test set is 30% of the data.\n",
        "- Encode the labels in the y attribute to be integers in the range 0..k-1.\n",
        "\n",
        "<details>\n",
        "    <summary><font size=\"3\" color=\"green\"><b>Hint:</b></font></summary>\n",
        "    You can use the <tt>partition</tt> function from lab02 if you like\n",
        "    <p></p>\n",
        "    <a href=\"https://pandas.pydata.org/pandas-docs/stable/reference/api/pandas.DataFrame.iloc.html\">panda.iloc</a> must be used to extract data from an index list\n",
        "    <p></p>\n",
        "    <a href=\"https://pandas.pydata.org/docs/reference/api/pandas.unique.html\">panda.unique</a> will give you the set of unique labels\n",
        "</details>"
      ]
    },
    {
      "cell_type": "code",
      "execution_count": null,
      "metadata": {
        "deletable": false,
        "nbgrader": {
          "cell_type": "code",
          "checksum": "4b840baf518302ae39dee4e9325d912d",
          "grade": false,
          "grade_id": "cell-eb7e4dd82f395754",
          "locked": false,
          "schema_version": 3,
          "solution": true,
          "task": false
        },
        "id": "vmcyo8zUDEQj"
      },
      "outputs": [],
      "source": [
        "def partition(X, y, percent_train):\n",
        "    # 1. create index list\n",
        "    \n",
        "    \n",
        "    # 2. shuffle index\n",
        "    # 3. Create train/test index\n",
        "    # 4. Separate X_Train, y_train, X_test, y_test\n",
        "    # 5. Get y_labels_name from y using pandas.unique function\n",
        "    # 6. Change y_labels_name into string number and put into y_labels_new\n",
        "    # 7. Drop shuffle index columns\n",
        "    #     - pandas.reset_index() and pandas.drop(...) might be help\n",
        "    \n",
        "    y_labels_name = None\n",
        "    y_labels_new = None\n",
        "    \n",
        "    # YOUR CODE HERE\n",
        "    idx = np.arange(0, X.shape[0])\n",
        "    np.random.shuffle(idx)\n",
        "    \n",
        "    middle = int(X.shape[0] * percent_train)\n",
        "    idx_train = idx[0:middle]\n",
        "    idx_test = idx[middle:]\n",
        "\n",
        "    y_labels_name = y.unique()\n",
        "    len_labels = len(y_labels_name)\n",
        "    \n",
        "    X_train = X.iloc[idx_train]\n",
        "    X_test = X.iloc[idx_test]\n",
        "    y_train = y.iloc[idx_train]\n",
        "    y_test = y.iloc[idx_test]\n",
        "    \n",
        "    y_labels_new = np.arange(len_labels).tolist()\n",
        "    \n",
        "    \n",
        "\n",
        "    for i in range(len_labels):\n",
        "      y_train.replace(y_labels_name[i], y_labels_new[i], inplace=True)\n",
        "      y_test.replace(y_labels_name[i], y_labels_new[i], inplace=True)\n",
        "    \n",
        "    # raise NotImplementedError()\n",
        "\n",
        "\n",
        "# 7. Drop shuffle index columns\n",
        "# - pandas.reset_index() and pandas.drop(...) might be help \n",
        "      X_train.reset_index(inplace=True, drop=True) \n",
        "      X_test.reset_index(inplace=True, drop=True) \n",
        "      y_train.reset_index(inplace=True, drop=True) \n",
        "      y_test.reset_index(inplace=True, drop=True)\n",
        "\n",
        "    \n",
        "    return idx, X_train, y_train, X_test, y_test, y_labels_name, y_labels_new"
      ]
    },
    {
      "cell_type": "code",
      "source": [
        "    y_labels_name = y.unique()\n"
      ],
      "metadata": {
        "id": "DQUgZGtqM6KJ"
      },
      "execution_count": null,
      "outputs": []
    },
    {
      "cell_type": "code",
      "execution_count": null,
      "metadata": {
        "deletable": false,
        "editable": false,
        "nbgrader": {
          "cell_type": "code",
          "checksum": "d6dd3918ae4421e104c8fe2687322be6",
          "grade": true,
          "grade_id": "cell-57199b8ae505edd8",
          "locked": true,
          "points": 10,
          "schema_version": 3,
          "solution": false,
          "task": false
        },
        "id": "FqpzizK2DEQj",
        "colab": {
          "base_uri": "https://localhost:8080/"
        },
        "outputId": "f332aea3-e077-4e91-a8d6-a858a553def4"
      },
      "outputs": [
        {
          "output_type": "stream",
          "name": "stdout",
          "text": [
            "X_train.shape (105, 4)\n",
            "X_test.shape (45, 4)\n",
            "y_train.shape (105,)\n",
            "y_test.shape (45,)\n",
            "y_labels_name:  ['Iris-setosa' 'Iris-versicolor' 'Iris-virginica']\n",
            "y_labels_new:  [0, 1, 2]\n",
            "   SepalLengthCm  SepalWidthCm  PetalLengthCm  PetalWidthCm\n",
            "0            7.9           3.8            6.4           2.0\n",
            "1            4.4           2.9            1.4           0.2\n",
            "2            5.8           2.6            4.0           1.2\n",
            "3            6.7           3.1            4.7           1.5\n",
            "4            6.3           2.7            4.9           1.8\n",
            "0    2\n",
            "1    0\n",
            "2    1\n",
            "3    1\n",
            "4    2\n",
            "Name: Species, dtype: int64\n",
            "success!\n"
          ]
        }
      ],
      "source": [
        "percent_train = 0.7\n",
        "idx, X_train, y_train, X_test, y_test, y_labels_name, y_labels_new = partition(X, y, percent_train)\n",
        "print('X_train.shape', X_train.shape)\n",
        "print('X_test.shape', X_test.shape)\n",
        "print('y_train.shape', y_train.shape)\n",
        "print('y_test.shape', y_test.shape)\n",
        "print('y_labels_name: ', y_labels_name)\n",
        "print('y_labels_new: ', y_labels_new)\n",
        "print(X_train.head())\n",
        "print(y_train.head())\n",
        "\n",
        "# Test function: Do not remove\n",
        "assert len(y_labels_name) == 3 and len(y_labels_new) == 3, 'number of y uniques are incorrect'\n",
        "assert X_train.shape == (105, 4), 'Size of X_train is incorrect'\n",
        "assert X_test.shape == (45, 4), 'Size of x_test is incorrect'\n",
        "assert y_train.shape == (105, ), 'Size of y_train is incorrect'\n",
        "assert y_test.shape == (45, ), 'Size of y_test is incorrect'\n",
        "assert 'Iris-setosa' in y_labels_name and 'Iris-virginica' in y_labels_name and \\\n",
        "        'Iris-versicolor' in y_labels_name, 'y unique data incorrect'\n",
        "assert min(y_labels_new) == 0 and max(y_labels_new) < 3, 'label indices are incorrect'\n",
        "\n",
        "print(\"success!\")\n",
        "# End Test function"
      ]
    },
    {
      "cell_type": "markdown",
      "metadata": {
        "deletable": false,
        "editable": false,
        "nbgrader": {
          "cell_type": "markdown",
          "checksum": "b9470594d08018205e3db8c74957f49d",
          "grade": false,
          "grade_id": "cell-ce816c5bfbade0a9",
          "locked": true,
          "schema_version": 3,
          "solution": false,
          "task": false
        },
        "id": "2jn6HwKdDEQj"
      },
      "source": [
        "**Expected result**: <span style=\"color:blue\">(*or similar*)</span>\\\n",
        "X_train.shape (105, 4)\\\n",
        "X_test.shape (45, 4)\\\n",
        "y_train.shape (105,)\\\n",
        "y_test.shape (45,)\\\n",
        "y_labels_name:  ['Iris-setosa' 'Iris-versicolor' 'Iris-virginica'] \\\n",
        "y_labels_new:  [0, 1, 2]\n",
        "\n",
        "SepalLengthCm  SepalWidthCm  PetalLengthCm  PetalWidthCm\\\n",
        "0            6.4           2.8            5.6           2.2\\\n",
        "1            6.7           3.3            5.7           2.1\\\n",
        "2            4.6           3.4            1.4           0.3\\\n",
        "3            5.1           3.8            1.5           0.3\\\n",
        "4            5.0           2.3            3.3           1.0\\\n",
        "   Species\\\n",
        "0        2\\\n",
        "1        2\\\n",
        "2        0\\\n",
        "3        0\\\n",
        "4        1"
      ]
    },
    {
      "cell_type": "markdown",
      "metadata": {
        "id": "a1dF9WUZDEQj"
      },
      "source": [
        "## Exercise 1.3 (5 points)\n",
        "\n",
        "Train your classification model using the `gradient_descent` function already provided.\n",
        "You might also play around with the gradient descent function to see if you can speed it up!"
      ]
    },
    {
      "cell_type": "code",
      "execution_count": null,
      "metadata": {
        "deletable": false,
        "nbgrader": {
          "cell_type": "code",
          "checksum": "ad783130ff0cfdf82d485d403ec273e9",
          "grade": false,
          "grade_id": "cell-45133326ee8336fd",
          "locked": false,
          "schema_version": 3,
          "solution": true,
          "task": false
        },
        "id": "prwrvm3LDEQj"
      },
      "outputs": [],
      "source": [
        "# num_class is the number of unique labels\n",
        "num_class = len(y_labels_name)\n",
        "\n",
        "if (X_train.shape[1] == X.shape[1]): \n",
        "    X_train.insert(0, \"intercept\", 1)\n",
        "\n",
        "# Reset m and n for training data\n",
        "r, c = X_train.shape\n",
        "\n",
        "# Initialize theta for each class\n",
        "theta_initial = np.ones((num_class, c))\n",
        "\n",
        "alpha = .05\n",
        "iterations = 200\n",
        "\n",
        "theta = None\n",
        "# Logistic regression\n",
        "# YOUR CODE HERE\n",
        "\n",
        "theta = gradient_descent(X_train, y_train, theta_initial, alpha, iterations, num_class)\n",
        "\n",
        "#raise NotImplementedError()"
      ]
    },
    {
      "cell_type": "code",
      "execution_count": null,
      "metadata": {
        "deletable": false,
        "editable": false,
        "nbgrader": {
          "cell_type": "code",
          "checksum": "292c4d2939100e64e43e00eaa1103c99",
          "grade": true,
          "grade_id": "cell-4df1fd593dc59103",
          "locked": true,
          "points": 5,
          "schema_version": 3,
          "solution": false,
          "task": false
        },
        "id": "yE8FEaJnDEQk",
        "colab": {
          "base_uri": "https://localhost:8080/"
        },
        "outputId": "0880b18a-0b3a-40ab-d488-f03d9868f7f0"
      },
      "outputs": [
        {
          "output_type": "stream",
          "name": "stdout",
          "text": [
            "[[ 1.17708749  1.32907929  1.81131914 -0.19511552  0.44926777]\n",
            " [ 1.07830167  1.17739683  0.76166508  1.16428128  0.83172454]\n",
            " [ 0.74461084  0.49352388  0.42701578  2.03083424  1.71900769]]\n",
            "(3, 5)\n",
            "success!\n"
          ]
        }
      ],
      "source": [
        "print(theta)\n",
        "print(theta.shape)\n",
        "\n",
        "# Test function: Do not remove\n",
        "assert theta.shape == (3, 5), 'Size of theta is incorrect'\n",
        "\n",
        "print(\"success!\")\n",
        "# End Test function"
      ]
    },
    {
      "cell_type": "markdown",
      "metadata": {
        "id": "tU24SrMmDEQk"
      },
      "source": [
        "**Expected result**: <span style=\"color:blue\">(*or similar*)</span>\\\n",
        "[[ 1.17632192  1.32360047  1.83204165 -0.20224445  0.44039155]\\\n",
        " [ 1.10140069  1.13537321  0.74833178  1.21907866  0.82567377]\\\n",
        " [ 0.72227738  0.54102632  0.41962657  1.98316579  1.73393467]]\\\n",
        "\\\n",
        "(3, 5)"
      ]
    },
    {
      "cell_type": "markdown",
      "metadata": {
        "deletable": false,
        "editable": false,
        "nbgrader": {
          "cell_type": "markdown",
          "checksum": "77824201280c79436622012608de3e2f",
          "grade": false,
          "grade_id": "cell-1fb529e9485db8ed",
          "locked": true,
          "schema_version": 3,
          "solution": false,
          "task": false
        },
        "id": "i6kHW5qIDEQk"
      },
      "source": [
        "## Exercise 1.4 (5 points)\n",
        "\n",
        "Let's get your model to make predictions on the test data."
      ]
    },
    {
      "cell_type": "code",
      "execution_count": null,
      "metadata": {
        "deletable": false,
        "nbgrader": {
          "cell_type": "code",
          "checksum": "348bc255367b5cbda2244eac6b1e9af7",
          "grade": false,
          "grade_id": "cell-ca9bee3cf3b6f596",
          "locked": false,
          "schema_version": 3,
          "solution": true,
          "task": false
        },
        "id": "MWwW5oAzDEQk"
      },
      "outputs": [],
      "source": [
        "# Prediction on test data \n",
        "\n",
        "if (X_test.shape[1] == X.shape[1]): \n",
        "    X_test.insert(0, \"intercept\", 1)\n",
        "\n",
        "# Reset m and n for test data\n",
        "r,c = X_test.shape\n",
        "\n",
        "y_pred = []\n",
        "for index,row in X_test.iterrows(): # get a row of X_test data\n",
        "    # calculate y_hat using hypothesis function\n",
        "    y_hat = None\n",
        "\n",
        "    # find the index (integer value) of maximum value in y_hat and input back to prediction\n",
        "    prediction = None\n",
        "    # YOUR CODE HERE\n",
        "\n",
        "    y_hat = h(row, theta, num_class)\n",
        "    prediction = int(np.argmax(y_hat))\n",
        "\n",
        "   # raise NotImplementedError()\n",
        "    # collect the result\n",
        "    y_pred.append(prediction)"
      ]
    },
    {
      "cell_type": "code",
      "execution_count": null,
      "metadata": {
        "deletable": false,
        "editable": false,
        "nbgrader": {
          "cell_type": "code",
          "checksum": "d842201bd3b0bc078ed88a2ad3be3ba5",
          "grade": true,
          "grade_id": "cell-eb837dfbea00f88e",
          "locked": true,
          "points": 5,
          "schema_version": 3,
          "solution": false,
          "task": false
        },
        "id": "Z4D385WIDEQk",
        "colab": {
          "base_uri": "https://localhost:8080/"
        },
        "outputId": "81cab87a-86a4-4e10-cf91-c95b579d23fe"
      },
      "outputs": [
        {
          "output_type": "stream",
          "name": "stdout",
          "text": [
            "45\n",
            "[2, 1, 2, 1, 2, 0, 1]\n",
            "<class 'int'>\n",
            "success!\n"
          ]
        }
      ],
      "source": [
        "print(len(y_pred))\n",
        "print(y_pred[:7])\n",
        "print(type(y_pred[0]))\n",
        "\n",
        "# Test function: Do not remove\n",
        "assert len(y_pred) == 45, 'Size of y_pred is incorrect'\n",
        "assert isinstance(y_pred[0], int) and isinstance(y_pred[15], int) and isinstance(y_pred[17], int), 'prediction type is incorrect'\n",
        "assert max(y_pred) < 3 and min(y_pred) >= 0, 'wrong index of y_pred'\n",
        "\n",
        "print(\"success!\")\n",
        "# End Test function"
      ]
    },
    {
      "cell_type": "markdown",
      "metadata": {
        "deletable": false,
        "editable": false,
        "nbgrader": {
          "cell_type": "markdown",
          "checksum": "f16868d1301850a213dcca08f77f9d99",
          "grade": false,
          "grade_id": "cell-e6c4ecd254dffa16",
          "locked": true,
          "schema_version": 3,
          "solution": false,
          "task": false
        },
        "id": "Ci-Nsy4hDEQk"
      },
      "source": [
        "**Expected result**: <span style=\"color:blue\">(*or similar*)</span>\\\n",
        "45 \\\n",
        "[2, 0, 2, 0, 0, 0, 2] \\\n",
        "<class 'int'>"
      ]
    },
    {
      "cell_type": "markdown",
      "metadata": {
        "id": "QApTi4UODEQk"
      },
      "source": [
        "## Exercise 1.5 (5 points)\n",
        "\n",
        "Estimate accuracy of model on test data\n",
        "\n",
        "$$\\text{accuracy} = \\frac{\\text{number of correct test predictions}}{m_{\\text{test}}}$$"
      ]
    },
    {
      "cell_type": "code",
      "execution_count": null,
      "metadata": {
        "deletable": false,
        "nbgrader": {
          "cell_type": "code",
          "checksum": "5e98a0ca8a59bcc91e4e98134994357c",
          "grade": false,
          "grade_id": "cell-e55c1db91fb8e2c2",
          "locked": false,
          "schema_version": 3,
          "solution": true,
          "task": false
        },
        "id": "oIybig5LDEQk"
      },
      "outputs": [],
      "source": [
        "def calc_accuracy(y_test, y_pred):\n",
        "    accuracy = None\n",
        "    # YOUR CODE HERE\n",
        "    # number_of_collect = (y_pred == y_test).value_counts()[True]\n",
        "    return (y_pred == y_test).astype(int).sum() / y_test.shape[0]\n",
        "    # m = len(y_test)/c\n",
        "    # accuracy = number_of_collect/m\n",
        "    #raise NotImplementedError()\n",
        "    return accuracy"
      ]
    },
    {
      "cell_type": "code",
      "execution_count": null,
      "metadata": {
        "deletable": false,
        "editable": false,
        "nbgrader": {
          "cell_type": "code",
          "checksum": "9e60eaa0a604ec38ec10b318709f16d2",
          "grade": true,
          "grade_id": "cell-3c242c8ceb36bdde",
          "locked": true,
          "points": 5,
          "schema_version": 3,
          "solution": false,
          "task": false
        },
        "id": "A15ZVJtEDEQk",
        "colab": {
          "base_uri": "https://localhost:8080/"
        },
        "outputId": "a82e380f-cf1b-4e8d-e16f-2609d9f21e44"
      },
      "outputs": [
        {
          "output_type": "stream",
          "name": "stdout",
          "text": [
            "Accuracy: 1.0000\n",
            "success!\n"
          ]
        }
      ],
      "source": [
        "accuracy = calc_accuracy(y_test, y_pred)\n",
        "print('Accuracy: %.4f' % accuracy)\n",
        "\n",
        "# Test function: Do not remove\n",
        "assert isinstance(accuracy, float), 'accuracy should be floating point'\n",
        "assert accuracy >= 0.8, 'Did you train the data?'\n",
        "\n",
        "print(\"success!\")\n",
        "# End Test function"
      ]
    },
    {
      "cell_type": "markdown",
      "metadata": {
        "deletable": false,
        "editable": false,
        "nbgrader": {
          "cell_type": "markdown",
          "checksum": "bb73f150e4d32690d39ea62b36681d0e",
          "grade": false,
          "grade_id": "cell-c6ce114f4e28eb00",
          "locked": true,
          "schema_version": 3,
          "solution": false,
          "task": false
        },
        "id": "Nv43T54GDEQl"
      },
      "source": [
        "**Expected result**: should be at least 0.8!"
      ]
    },
    {
      "cell_type": "markdown",
      "metadata": {
        "deletable": false,
        "editable": false,
        "nbgrader": {
          "cell_type": "markdown",
          "checksum": "409feaa976ebc15fa25dd29cb7f225de",
          "grade": false,
          "grade_id": "cell-766aea2be684caa1",
          "locked": true,
          "schema_version": 3,
          "solution": false,
          "task": false
        },
        "id": "ORWy_Oq9DEQl"
      },
      "source": [
        "## On your own in lab\n",
        "\n",
        "We will do the following in lab:\n",
        "1. Write a function to obtain the cost for particular $\\mathtt{X}$, $\\mathbf{y}$, and $\\theta$.\n",
        "2. Plot the training set and test cost as training goes on and find the best value for the number of iterations and learning rate.\n",
        "3. Make 2D scatter plots showing the predicted and actual class of each item in the training set, plotting two features at a time.\n",
        "   Comment on the cause of the errors you observe. If you obtain perfect test set accuracy, re-run the train/test split\n",
        "   and rerun the optimization until you observe some mistaken predictions on the test set.\n"
      ]
    },
    {
      "cell_type": "markdown",
      "metadata": {
        "deletable": false,
        "editable": false,
        "nbgrader": {
          "cell_type": "markdown",
          "checksum": "ea7c241fded47855150e595f8487230e",
          "grade": false,
          "grade_id": "cell-24e9ed62d68b8af8",
          "locked": true,
          "schema_version": 3,
          "solution": false,
          "task": false
        },
        "id": "Pcq3Fz8YDEQl"
      },
      "source": [
        "## Exercise 2.1 (15 points)\n",
        "\n",
        "1. Write a function to obtain the cost for particular $\\mathtt{X}$, $\\mathbf{y}$, and $\\theta$.\n",
        "   Name your function `my_J()` and implement\n",
        "\n",
        "$$ J_j = -\\delta(y, j)\\log{\\phi_j} $$\n"
      ]
    },
    {
      "cell_type": "code",
      "execution_count": null,
      "metadata": {
        "deletable": false,
        "nbgrader": {
          "cell_type": "code",
          "checksum": "7bae968c2f17079d9772c6a7fc4dabde",
          "grade": false,
          "grade_id": "cell-09504f5f2f8c3576",
          "locked": false,
          "schema_version": 3,
          "solution": true,
          "task": false
        },
        "id": "wCT6BPwVDEQl"
      },
      "outputs": [],
      "source": [
        "def my_J(theta, X, y, j, num_class):\n",
        "    cost = None\n",
        "    # YOUR CODE HERE\n",
        "    cost = indicator(y,j)*-np.log(phi(j, theta, X, num_class))\n",
        "\n",
        "  #  raise NotImplementedError()\n",
        "    return cost"
      ]
    },
    {
      "cell_type": "code",
      "execution_count": null,
      "metadata": {
        "deletable": false,
        "editable": false,
        "nbgrader": {
          "cell_type": "code",
          "checksum": "c99e4d6e2e754a96be6e7d37d9bb7149",
          "grade": true,
          "grade_id": "cell-fbcbb4e3e0175f5b",
          "locked": true,
          "points": 5,
          "schema_version": 3,
          "solution": false,
          "task": false
        },
        "id": "hFRGtKs8DEQl",
        "colab": {
          "base_uri": "https://localhost:8080/"
        },
        "outputId": "77758d1d-bb0c-4d46-b71a-f191f75cef5d"
      },
      "outputs": [
        {
          "output_type": "stream",
          "name": "stdout",
          "text": [
            "success!\n"
          ]
        }
      ],
      "source": [
        "# Test function: Do not remove\n",
        "m, n = X_train.shape\n",
        "test_theta = np.ones((3, n))  \n",
        "cost = my_J(test_theta, X_train.loc[10], y_train[10], 0, 3)\n",
        "assert isinstance(cost, float), 'cost should be floating point'\n",
        "\n",
        "print(\"success!\")\n",
        "# End Test function"
      ]
    },
    {
      "cell_type": "markdown",
      "metadata": {
        "deletable": false,
        "editable": false,
        "nbgrader": {
          "cell_type": "markdown",
          "checksum": "5c398c965785889ee0a06aeb84a0b80d",
          "grade": false,
          "grade_id": "cell-34c143689212aef1",
          "locked": true,
          "schema_version": 3,
          "solution": false,
          "task": false
        },
        "id": "naMY7EvkDEQl"
      },
      "source": [
        "2. Implement <code>my_grad_cost</code> using your <code>my_J</code> function"
      ]
    },
    {
      "cell_type": "code",
      "execution_count": null,
      "metadata": {
        "deletable": false,
        "nbgrader": {
          "cell_type": "code",
          "checksum": "cd8bd33416294c869c6e5e6799e706af",
          "grade": false,
          "grade_id": "cell-4ceb8af01bd22e41",
          "locked": false,
          "schema_version": 3,
          "solution": true,
          "task": false
        },
        "id": "aKzny8EnDEQl"
      },
      "outputs": [],
      "source": [
        "def my_grad_cost(X, y, j, theta, num_class):\n",
        "    grad = None\n",
        "    cost = None\n",
        "    # YOUR CODE HERE\n",
        "    m, n = X.shape\n",
        "    sum = np.array([0 for i in range(0, n)])\n",
        "    cost = 0\n",
        "    for i in range(0, m):\n",
        "        p = indicator(y[i], j) - phi(j, theta, X.loc[i], num_class)\n",
        "        cost = cost + my_J(theta, X.loc[i], y[i], j, num_class)\n",
        "        sum = sum + (X.loc[i] * p)\n",
        "    grad = -sum/m\n",
        "\n",
        "\n",
        "\n",
        "    #raise NotImplementedError()\n",
        "    return grad, cost"
      ]
    },
    {
      "cell_type": "code",
      "source": [
        "X_train.head()"
      ],
      "metadata": {
        "colab": {
          "base_uri": "https://localhost:8080/",
          "height": 206
        },
        "id": "E5M0VEWDfes2",
        "outputId": "fa5d1b81-304a-4456-9196-7e331aaaf6a6"
      },
      "execution_count": null,
      "outputs": [
        {
          "output_type": "execute_result",
          "data": {
            "text/plain": [
              "   intercept  SepalLengthCm  SepalWidthCm  PetalLengthCm  PetalWidthCm\n",
              "0          1            7.9           3.8            6.4           2.0\n",
              "1          1            4.4           2.9            1.4           0.2\n",
              "2          1            5.8           2.6            4.0           1.2\n",
              "3          1            6.7           3.1            4.7           1.5\n",
              "4          1            6.3           2.7            4.9           1.8"
            ],
            "text/html": [
              "\n",
              "  <div id=\"df-a8c2fad0-7ef3-4f18-bddd-9f512ada8595\">\n",
              "    <div class=\"colab-df-container\">\n",
              "      <div>\n",
              "<style scoped>\n",
              "    .dataframe tbody tr th:only-of-type {\n",
              "        vertical-align: middle;\n",
              "    }\n",
              "\n",
              "    .dataframe tbody tr th {\n",
              "        vertical-align: top;\n",
              "    }\n",
              "\n",
              "    .dataframe thead th {\n",
              "        text-align: right;\n",
              "    }\n",
              "</style>\n",
              "<table border=\"1\" class=\"dataframe\">\n",
              "  <thead>\n",
              "    <tr style=\"text-align: right;\">\n",
              "      <th></th>\n",
              "      <th>intercept</th>\n",
              "      <th>SepalLengthCm</th>\n",
              "      <th>SepalWidthCm</th>\n",
              "      <th>PetalLengthCm</th>\n",
              "      <th>PetalWidthCm</th>\n",
              "    </tr>\n",
              "  </thead>\n",
              "  <tbody>\n",
              "    <tr>\n",
              "      <th>0</th>\n",
              "      <td>1</td>\n",
              "      <td>7.9</td>\n",
              "      <td>3.8</td>\n",
              "      <td>6.4</td>\n",
              "      <td>2.0</td>\n",
              "    </tr>\n",
              "    <tr>\n",
              "      <th>1</th>\n",
              "      <td>1</td>\n",
              "      <td>4.4</td>\n",
              "      <td>2.9</td>\n",
              "      <td>1.4</td>\n",
              "      <td>0.2</td>\n",
              "    </tr>\n",
              "    <tr>\n",
              "      <th>2</th>\n",
              "      <td>1</td>\n",
              "      <td>5.8</td>\n",
              "      <td>2.6</td>\n",
              "      <td>4.0</td>\n",
              "      <td>1.2</td>\n",
              "    </tr>\n",
              "    <tr>\n",
              "      <th>3</th>\n",
              "      <td>1</td>\n",
              "      <td>6.7</td>\n",
              "      <td>3.1</td>\n",
              "      <td>4.7</td>\n",
              "      <td>1.5</td>\n",
              "    </tr>\n",
              "    <tr>\n",
              "      <th>4</th>\n",
              "      <td>1</td>\n",
              "      <td>6.3</td>\n",
              "      <td>2.7</td>\n",
              "      <td>4.9</td>\n",
              "      <td>1.8</td>\n",
              "    </tr>\n",
              "  </tbody>\n",
              "</table>\n",
              "</div>\n",
              "      <button class=\"colab-df-convert\" onclick=\"convertToInteractive('df-a8c2fad0-7ef3-4f18-bddd-9f512ada8595')\"\n",
              "              title=\"Convert this dataframe to an interactive table.\"\n",
              "              style=\"display:none;\">\n",
              "        \n",
              "  <svg xmlns=\"http://www.w3.org/2000/svg\" height=\"24px\"viewBox=\"0 0 24 24\"\n",
              "       width=\"24px\">\n",
              "    <path d=\"M0 0h24v24H0V0z\" fill=\"none\"/>\n",
              "    <path d=\"M18.56 5.44l.94 2.06.94-2.06 2.06-.94-2.06-.94-.94-2.06-.94 2.06-2.06.94zm-11 1L8.5 8.5l.94-2.06 2.06-.94-2.06-.94L8.5 2.5l-.94 2.06-2.06.94zm10 10l.94 2.06.94-2.06 2.06-.94-2.06-.94-.94-2.06-.94 2.06-2.06.94z\"/><path d=\"M17.41 7.96l-1.37-1.37c-.4-.4-.92-.59-1.43-.59-.52 0-1.04.2-1.43.59L10.3 9.45l-7.72 7.72c-.78.78-.78 2.05 0 2.83L4 21.41c.39.39.9.59 1.41.59.51 0 1.02-.2 1.41-.59l7.78-7.78 2.81-2.81c.8-.78.8-2.07 0-2.86zM5.41 20L4 18.59l7.72-7.72 1.47 1.35L5.41 20z\"/>\n",
              "  </svg>\n",
              "      </button>\n",
              "      \n",
              "  <style>\n",
              "    .colab-df-container {\n",
              "      display:flex;\n",
              "      flex-wrap:wrap;\n",
              "      gap: 12px;\n",
              "    }\n",
              "\n",
              "    .colab-df-convert {\n",
              "      background-color: #E8F0FE;\n",
              "      border: none;\n",
              "      border-radius: 50%;\n",
              "      cursor: pointer;\n",
              "      display: none;\n",
              "      fill: #1967D2;\n",
              "      height: 32px;\n",
              "      padding: 0 0 0 0;\n",
              "      width: 32px;\n",
              "    }\n",
              "\n",
              "    .colab-df-convert:hover {\n",
              "      background-color: #E2EBFA;\n",
              "      box-shadow: 0px 1px 2px rgba(60, 64, 67, 0.3), 0px 1px 3px 1px rgba(60, 64, 67, 0.15);\n",
              "      fill: #174EA6;\n",
              "    }\n",
              "\n",
              "    [theme=dark] .colab-df-convert {\n",
              "      background-color: #3B4455;\n",
              "      fill: #D2E3FC;\n",
              "    }\n",
              "\n",
              "    [theme=dark] .colab-df-convert:hover {\n",
              "      background-color: #434B5C;\n",
              "      box-shadow: 0px 1px 3px 1px rgba(0, 0, 0, 0.15);\n",
              "      filter: drop-shadow(0px 1px 2px rgba(0, 0, 0, 0.3));\n",
              "      fill: #FFFFFF;\n",
              "    }\n",
              "  </style>\n",
              "\n",
              "      <script>\n",
              "        const buttonEl =\n",
              "          document.querySelector('#df-a8c2fad0-7ef3-4f18-bddd-9f512ada8595 button.colab-df-convert');\n",
              "        buttonEl.style.display =\n",
              "          google.colab.kernel.accessAllowed ? 'block' : 'none';\n",
              "\n",
              "        async function convertToInteractive(key) {\n",
              "          const element = document.querySelector('#df-a8c2fad0-7ef3-4f18-bddd-9f512ada8595');\n",
              "          const dataTable =\n",
              "            await google.colab.kernel.invokeFunction('convertToInteractive',\n",
              "                                                     [key], {});\n",
              "          if (!dataTable) return;\n",
              "\n",
              "          const docLinkHtml = 'Like what you see? Visit the ' +\n",
              "            '<a target=\"_blank\" href=https://colab.research.google.com/notebooks/data_table.ipynb>data table notebook</a>'\n",
              "            + ' to learn more about interactive tables.';\n",
              "          element.innerHTML = '';\n",
              "          dataTable['output_type'] = 'display_data';\n",
              "          await google.colab.output.renderOutput(dataTable, element);\n",
              "          const docLink = document.createElement('div');\n",
              "          docLink.innerHTML = docLinkHtml;\n",
              "          element.appendChild(docLink);\n",
              "        }\n",
              "      </script>\n",
              "    </div>\n",
              "  </div>\n",
              "  "
            ]
          },
          "metadata": {},
          "execution_count": 19
        }
      ]
    },
    {
      "cell_type": "code",
      "execution_count": null,
      "metadata": {
        "deletable": false,
        "editable": false,
        "nbgrader": {
          "cell_type": "code",
          "checksum": "561dddd2c0890a5871cd9a93ba403271",
          "grade": true,
          "grade_id": "cell-0c59178b69fc0e79",
          "locked": true,
          "points": 5,
          "schema_version": 3,
          "solution": false,
          "task": false
        },
        "id": "2gwTPzvkDEQl",
        "colab": {
          "base_uri": "https://localhost:8080/"
        },
        "outputId": "589e8adb-2bc0-44a0-848d-79f34feb7868"
      },
      "outputs": [
        {
          "output_type": "stream",
          "name": "stdout",
          "text": [
            "intercept        0.028571\n",
            "SepalLengthCm    0.448254\n",
            "SepalWidthCm    -0.015556\n",
            "PetalLengthCm    0.856825\n",
            "PetalWidthCm     0.343492\n",
            "dtype: float64\n",
            "35.15559323737952\n",
            "success!\n"
          ]
        }
      ],
      "source": [
        "# Test function: Do not remove\n",
        "m, n = X_train.shape\n",
        "test_theta = np.ones((3, n))  \n",
        "grad, cost = my_grad_cost(X_train, y_train, 0, test_theta, num_class)\n",
        "print(grad)\n",
        "print(cost)\n",
        "assert isinstance(cost, float), 'cost should be floating point'\n",
        "assert isinstance(grad['intercept'], float) and \\\n",
        "        isinstance(grad['SepalLengthCm'], float) and \\\n",
        "        isinstance(grad['SepalWidthCm'], float) and \\\n",
        "        isinstance(grad['PetalLengthCm'], float) and \\\n",
        "        isinstance(grad['PetalWidthCm'], float) , 'grad should be floating point'\n",
        "print(\"success!\")\n",
        "# End Test function"
      ]
    },
    {
      "cell_type": "markdown",
      "metadata": {
        "deletable": false,
        "editable": false,
        "nbgrader": {
          "cell_type": "markdown",
          "checksum": "3a7669c774b0a3bf8c73ff1a0434fe62",
          "grade": false,
          "grade_id": "cell-97b876dfa85ff5bc",
          "locked": true,
          "schema_version": 3,
          "solution": false,
          "task": false
        },
        "id": "NvHmP32WDEQl"
      },
      "source": [
        "**Expect result**: <span style=\"color:blue\">(*or similar*)</span>\\\n",
        "intercept        0.009524\\\n",
        "SepalLengthCm    0.316825\\\n",
        "SepalWidthCm    -0.091429\\\n",
        "PetalLengthCm    0.780000\\\n",
        "PetalWidthCm     0.329524\\\n",
        "dtype: float64\\\n",
        "37.352817814715735"
      ]
    },
    {
      "cell_type": "markdown",
      "metadata": {
        "deletable": false,
        "editable": false,
        "nbgrader": {
          "cell_type": "markdown",
          "checksum": "3d80cb7d40135eec5790ae5a8f5af7cf",
          "grade": false,
          "grade_id": "cell-32f708e7578beca7",
          "locked": true,
          "schema_version": 3,
          "solution": false,
          "task": false
        },
        "id": "Kk9JSef8DEQl"
      },
      "source": [
        "3. Implement <code>my_gradient_descent</code> using your <code>my_grad_cost</code> function"
      ]
    },
    {
      "cell_type": "code",
      "execution_count": null,
      "metadata": {
        "deletable": false,
        "nbgrader": {
          "cell_type": "code",
          "checksum": "8b2a20ca1f35b23f2f6226e644a123a0",
          "grade": false,
          "grade_id": "cell-68841cb78e91028a",
          "locked": false,
          "schema_version": 3,
          "solution": true,
          "task": false
        },
        "id": "R7hyJzL-DEQm"
      },
      "outputs": [],
      "source": [
        "# def my_gradient_descent(X, y, theta, alpha, iters, num_class): \n",
        "#     cost_arr = []\n",
        "#     for i in range(iters):\n",
        "#       dthata = np.zeros((num_class, n)) \n",
        "#       cost_sum = 0\n",
        "#       for j in range(num_class):\n",
        "#           grad, cost  = my_grad_cost(X, y, j, theta, num_class) \n",
        "#           dthata[j,:] = grad\n",
        "#           cost_sum   += cost\n",
        "#           cost_arr.append(cost_sum)\n",
        "#           theta = theta - alpha * dthata \n",
        "# # raise NotImplementedError()     \n",
        "#     return theta, cost_arr\n"
      ]
    },
    {
      "cell_type": "code",
      "source": [
        "def my_gradient_descent(X, y, theta, alpha, iters, num_class):        \n",
        "    cost_arr = []\n",
        "    # YOUR CODE HERE\n",
        "    n = X.shape[1]\n",
        "    for iter in range(iters):\n",
        "        dtheta = np.zeros((num_class, n))\n",
        "        for j in range(0, num_class):\n",
        "            dtheta[j,:],cost = my_grad_cost(X, y, j, theta, num_class)\n",
        "        theta = theta - alpha * dtheta\n",
        "        cost_arr.append(cost)\n",
        "    return theta,cost_arr\n",
        "    # raise NotImplementedError()\n",
        "    # return theta, cost_arr"
      ],
      "metadata": {
        "id": "6wbhHzxfMg-9"
      },
      "execution_count": null,
      "outputs": []
    },
    {
      "cell_type": "code",
      "execution_count": null,
      "metadata": {
        "deletable": false,
        "editable": false,
        "nbgrader": {
          "cell_type": "code",
          "checksum": "5a352fdcab8656502c0f241b436d3966",
          "grade": true,
          "grade_id": "cell-8b7f6daed2ecf043",
          "locked": true,
          "points": 5,
          "schema_version": 3,
          "solution": false,
          "task": false
        },
        "id": "xe6bC6pODEQm",
        "colab": {
          "base_uri": "https://localhost:8080/"
        },
        "outputId": "866bb675-aec3-4dad-99aa-996d61726c08"
      },
      "outputs": [
        {
          "output_type": "stream",
          "name": "stdout",
          "text": [
            "[[0.99987792 0.99788661 1.00014024 0.99580886 0.99831354]\n",
            " [1.0000441  1.00040364 0.9997244  1.00089031 1.00022003]\n",
            " [1.00007798 1.00170975 1.00013536 1.00330083 1.00146643]]\n",
            "[40.64865468072006, 40.39310339337878, 40.14413251958945, 39.901547186675984, 39.665158912890625]\n",
            "success!\n"
          ]
        }
      ],
      "source": [
        "# Test function: Do not remove\n",
        "m, n = X_train.shape\n",
        "test_theta = np.ones((3, n))  \n",
        "theta, cost = my_gradient_descent(X_train, y_train, theta_initial, 0.001, 5, 3)\n",
        "print(theta)\n",
        "print(cost)\n",
        "print(\"success!\")\n",
        "# End Test function"
      ]
    },
    {
      "cell_type": "markdown",
      "metadata": {
        "deletable": false,
        "editable": false,
        "nbgrader": {
          "cell_type": "markdown",
          "checksum": "93a06956cbd8e8cf4b2f7b32643cd4b8",
          "grade": false,
          "grade_id": "cell-44224271d398a147",
          "locked": true,
          "schema_version": 3,
          "solution": false,
          "task": false
        },
        "id": "8ZnzVAZiDEQm"
      },
      "source": [
        "**Expected result**: <span style=\"color:blue\">(*or similar*)</span>\\\n",
        "[[1.00001186 0.99618853 1.00183642 0.9889817  0.99528923]\\\n",
        " [1.00009697 1.0011823  0.99883395 1.00316763 1.00083055]\\\n",
        " [0.99987915 1.00255606 0.99929351 1.00779768 1.00386218]]\\\n",
        "[114.00099216453735, 113.89036233839263, 113.78163144339288, 113.67472269747496, 113.56956268162737]\\\n",
        "37.352817814715735"
      ]
    },
    {
      "cell_type": "markdown",
      "metadata": {
        "deletable": false,
        "editable": false,
        "nbgrader": {
          "cell_type": "markdown",
          "checksum": "ba2df6557c59fe3a224ab91188067727",
          "grade": false,
          "grade_id": "cell-8c6718d263bf7786",
          "locked": true,
          "schema_version": 3,
          "solution": false,
          "task": false
        },
        "id": "MfBmVszvDEQm"
      },
      "source": [
        "## Exercise 2.2 (20 points)\n",
        "\n",
        "4. Plot the training set and test cost as training goes on and find the best value for the number of iterations and learning rate.\n",
        "5. Make 2D scatter plots showing the predicted and actual class of each item in the training set, plotting two features at a time.\n",
        "   Comment on the cause of the errors you observe. If you obtain perfect test set accuracy, re-run the train/test split\n",
        "   and rerun the optimization until you observe some mistaken predictions on the test set."
      ]
    },
    {
      "cell_type": "code",
      "execution_count": null,
      "metadata": {
        "id": "u2o7wI1UDEQm"
      },
      "outputs": [],
      "source": [
        "import matplotlib.pyplot as plt"
      ]
    },
    {
      "cell_type": "code",
      "source": [
        "def predict(X_test, theta, num_class):\n",
        "  y_pred = []\n",
        "  for index,row in X_test.iterrows(): # get a row of X_test data\n",
        "# calculate y_hat using hypothesis function\n",
        "      y_hat = h(row, theta, num_class)\n",
        "# find the index (integer value) of maximum value in y_hat and input back to prediction \n",
        "      prediction = int(np.argmax(y_hat))\n",
        "# collect the result\n",
        "      y_pred.append(prediction)\n",
        "  return y_pred"
      ],
      "metadata": {
        "id": "hpZEgwOi55No"
      },
      "execution_count": null,
      "outputs": []
    },
    {
      "cell_type": "code",
      "execution_count": null,
      "metadata": {
        "deletable": false,
        "nbgrader": {
          "cell_type": "code",
          "checksum": "b4aa679efedc456225c0f84d5646aac6",
          "grade": true,
          "grade_id": "cell-5d97fd557db7438e",
          "locked": false,
          "points": 20,
          "schema_version": 3,
          "solution": true,
          "task": false
        },
        "id": "5yEkU4q3DEQm",
        "colab": {
          "base_uri": "https://localhost:8080/",
          "height": 300
        },
        "outputId": "a2714d92-e74a-43ea-e6c4-37465789c8ee"
      },
      "outputs": [
        {
          "output_type": "display_data",
          "data": {
            "text/plain": [
              "<Figure size 432x288 with 1 Axes>"
            ],
            "image/png": "[encoded data removed]"
          },
          "metadata": {
            "needs_background": "light"
          }
        },
        {
          "output_type": "stream",
          "name": "stdout",
          "text": [
            "Best alpha is 0.05\n",
            "with accuracy:  1.0\n"
          ]
        }
      ],
      "source": [
        "theta_arr = []\n",
        "cost_arr = []\n",
        "accuracy_arr = []\n",
        "\n",
        "# design your own learning rate and num iterations\n",
        "alpha_arr = np.array([0.009, 0.01, 0.05, 0.09])\n",
        "iterations_arr = np.array([50,100,200,400])\n",
        "\n",
        "m, n = X_train.shape\n",
        "theta_initial = np.ones((num_class, n)) \n",
        "\n",
        "for alpha in alpha_arr:\n",
        "    theta, cost = my_gradient_descent(X_train, y_train, theta_initial, alpha,200, num_class)\n",
        "    \n",
        "#     y_pred = []\n",
        "\n",
        "    for index, row in X_test.iterrows():\n",
        "      y_hat = h(row, theta, num_class)\n",
        "      prediction = int(np.argmax(y_hat))\n",
        "      y_pred.append(prediction)\n",
        "    \n",
        "      theta_arr.append(theta)\n",
        "      cost_arr.append(cost)\n",
        "      y_pred = predict(X_test, theta, num_class)\n",
        "\n",
        "    accuracy = calc_accuracy(y_test, y_pred)\n",
        "    accuracy_arr.append(accuracy)\n",
        "    plt.plot(cost, label=\"Alpha:\" + str(alpha)+\", Acc.:\"+str(np.round(accuracy, 2)))\n",
        "\n",
        "plt.legend() \n",
        "plt.show() \n",
        "\n",
        "max_acc = np.argmax(accuracy_arr) \n",
        "\n",
        "print(\"Best alpha is\", alpha_arr[max_acc]) \n",
        "print(\"with accuracy: \", accuracy_arr[max_acc])"
      ]
    },
    {
      "cell_type": "markdown",
      "metadata": {
        "deletable": false,
        "editable": false,
        "nbgrader": {
          "cell_type": "markdown",
          "checksum": "0c15b26d416d2baf11b8a9f0695f9ff8",
          "grade": false,
          "grade_id": "cell-708bd0d431aeb436",
          "locked": true,
          "schema_version": 3,
          "solution": false,
          "task": false
        },
        "id": "5IP9D3isDEQm"
      },
      "source": [
        "**Expected result**: <span style=\"color:blue\">(*Yours doesn't have to be the same!*)</span>\n",
        "\n",
        "![lab4-02.png](attachment:lab4-02.png)"
      ]
    },
    {
      "cell_type": "markdown",
      "metadata": {
        "deletable": false,
        "editable": false,
        "nbgrader": {
          "cell_type": "markdown",
          "checksum": "29074975f2f5f4dff65a4c9ccfc006c5",
          "grade": false,
          "grade_id": "cell-11e3be2a06e07677",
          "locked": true,
          "points": 40,
          "schema_version": 3,
          "solution": false,
          "task": true
        },
        "id": "qatOc-nRDEQm"
      },
      "source": [
        "## On your own to take home\n",
        "\n",
        "We see that the Iris dataset is pretty easy. Depending on the train/test split, we get 95-100% accuracy.\n",
        "\n",
        "Find a more interesting multi-class classification problem on Kaggle (Tell the reference), clean the dataset to obtain numerical input features without missing values,\n",
        "split the data into test and train, and experiment with multinomial logistic regression.\n",
        "\n",
        "Write a brief report on your experiments and results. As always, turn in a Jupyter notebook by email\n",
        "to the instructor and TA.\n"
      ]
    },
    {
      "cell_type": "code",
      "execution_count": null,
      "metadata": {
        "id": "4VzAs989DEQm"
      },
      "outputs": [],
      "source": [
        "import pandas as pd\n",
        "import numpy as np"
      ]
    },
    {
      "cell_type": "markdown",
      "source": [
        "# **Import Data**"
      ],
      "metadata": {
        "id": "mI90ayx2LFhT"
      }
    },
    {
      "cell_type": "code",
      "source": [
        "data = pd.read_excel('Date_Fruit_Datasets.xlsx')"
      ],
      "metadata": {
        "id": "QtcMCC7rZLib"
      },
      "execution_count": null,
      "outputs": []
    },
    {
      "cell_type": "code",
      "source": [
        "#Check the data columns\n",
        "data.columns"
      ],
      "metadata": {
        "colab": {
          "base_uri": "https://localhost:8080/"
        },
        "id": "xKiUjg1yLcKF",
        "outputId": "1708292a-83fc-4ffd-82f0-9c9e17fe86a6"
      },
      "execution_count": null,
      "outputs": [
        {
          "output_type": "execute_result",
          "data": {
            "text/plain": [
              "Index(['AREA', 'PERIMETER', 'MAJOR_AXIS', 'MINOR_AXIS', 'ECCENTRICITY',\n",
              "       'EQDIASQ', 'SOLIDITY', 'CONVEX_AREA', 'EXTENT', 'ASPECT_RATIO',\n",
              "       'ROUNDNESS', 'COMPACTNESS', 'SHAPEFACTOR_1', 'SHAPEFACTOR_2',\n",
              "       'SHAPEFACTOR_3', 'SHAPEFACTOR_4', 'MeanRR', 'MeanRG', 'MeanRB',\n",
              "       'StdDevRR', 'StdDevRG', 'StdDevRB', 'SkewRR', 'SkewRG', 'SkewRB',\n",
              "       'KurtosisRR', 'KurtosisRG', 'KurtosisRB', 'EntropyRR', 'EntropyRG',\n",
              "       'EntropyRB', 'ALLdaub4RR', 'ALLdaub4RG', 'ALLdaub4RB', 'Class'],\n",
              "      dtype='object')"
            ]
          },
          "metadata": {},
          "execution_count": 87
        }
      ]
    },
    {
      "cell_type": "markdown",
      "source": [
        "# **Checking Class by using .unique()**"
      ],
      "metadata": {
        "id": "KVU472g6LSHn"
      }
    },
    {
      "cell_type": "code",
      "source": [
        "data['Class'].unique()"
      ],
      "metadata": {
        "colab": {
          "base_uri": "https://localhost:8080/"
        },
        "id": "J1b7G8NBiQFb",
        "outputId": "6f34531b-c704-453a-9781-a6466838da11"
      },
      "execution_count": null,
      "outputs": [
        {
          "output_type": "execute_result",
          "data": {
            "text/plain": [
              "array(['BERHI', 'DEGLET', 'DOKOL', 'IRAQI', 'ROTANA', 'SAFAVI', 'SOGAY'],\n",
              "      dtype=object)"
            ]
          },
          "metadata": {},
          "execution_count": 88
        }
      ]
    },
    {
      "cell_type": "markdown",
      "source": [
        "# **Replacing string by using Numeric**"
      ],
      "metadata": {
        "id": "48O792ywLuD3"
      }
    },
    {
      "cell_type": "code",
      "source": [
        "data['Class'].replace('BERHI', 1, inplace=True)\n",
        "data['Class'].replace('DEGLET', 2, inplace=True)\n",
        "data['Class'].replace('DOKOL', 3, inplace=True)\n",
        "data['Class'].replace('IRAQI', 4, inplace=True)\n",
        "data['Class'].replace('ROTANA', 5, inplace=True)\n",
        "data['Class'].replace('SAFAVI', 6, inplace=True)\n",
        "data['Class'].replace('SOGAY', 7, inplace=True)"
      ],
      "metadata": {
        "id": "88b9aooUkJ9W"
      },
      "execution_count": null,
      "outputs": []
    },
    {
      "cell_type": "code",
      "source": [
        "#Checking that the \"class\" columns is replaced by numeric\n",
        "data['Class'].sample(10)"
      ],
      "metadata": {
        "colab": {
          "base_uri": "https://localhost:8080/"
        },
        "id": "tZC91Hl-kVRd",
        "outputId": "996bf9d0-881c-4773-e7f2-7741359e311f"
      },
      "execution_count": null,
      "outputs": [
        {
          "output_type": "execute_result",
          "data": {
            "text/plain": [
              "550    5\n",
              "109    2\n",
              "458    5\n",
              "867    7\n",
              "95     2\n",
              "167    3\n",
              "536    5\n",
              "484    5\n",
              "691    6\n",
              "757    6\n",
              "Name: Class, dtype: int64"
            ]
          },
          "metadata": {},
          "execution_count": 90
        }
      ]
    },
    {
      "cell_type": "code",
      "source": [
        "data.head()"
      ],
      "metadata": {
        "colab": {
          "base_uri": "https://localhost:8080/",
          "height": 299
        },
        "id": "6-yqseFfzrf0",
        "outputId": "0ce31eab-6504-47f6-ddb2-4aeb4ef1b0b7"
      },
      "execution_count": null,
      "outputs": [
        {
          "output_type": "execute_result",
          "data": {
            "text/plain": [
              "     AREA  PERIMETER  MAJOR_AXIS  MINOR_AXIS  ECCENTRICITY   EQDIASQ  \\\n",
              "0  422163   2378.908    837.8484    645.6693        0.6373  733.1539   \n",
              "1  338136   2085.144    723.8198    595.2073        0.5690  656.1464   \n",
              "2  526843   2647.394    940.7379    715.3638        0.6494  819.0222   \n",
              "3  416063   2351.210    827.9804    645.2988        0.6266  727.8378   \n",
              "4  347562   2160.354    763.9877    582.8359        0.6465  665.2291   \n",
              "\n",
              "   SOLIDITY  CONVEX_AREA  EXTENT  ASPECT_RATIO  ...  KurtosisRR  KurtosisRG  \\\n",
              "0    0.9947       424428  0.7831        1.2976  ...      3.2370      2.9574   \n",
              "1    0.9974       339014  0.7795        1.2161  ...      2.6228      2.6350   \n",
              "2    0.9962       528876  0.7657        1.3150  ...      3.7516      3.8611   \n",
              "3    0.9948       418255  0.7759        1.2831  ...      5.0401      8.6136   \n",
              "4    0.9908       350797  0.7569        1.3108  ...      2.7016      2.9761   \n",
              "\n",
              "   KurtosisRB    EntropyRR    EntropyRG    EntropyRB  ALLdaub4RR  ALLdaub4RG  \\\n",
              "0      4.2287 -59191263232 -50714214400 -39922372608     58.7255     54.9554   \n",
              "1      3.1704 -34233065472 -37462601728 -31477794816     50.0259     52.8168   \n",
              "2      4.7192 -93948354560 -74738221056 -60311207936     65.4772     59.2860   \n",
              "3      8.2618 -32074307584 -32060925952 -29575010304     43.3900     44.1259   \n",
              "4      4.4146 -39980974080 -35980042240 -25593278464     52.7743     50.9080   \n",
              "\n",
              "   ALLdaub4RB  Class  \n",
              "0     47.8400      1  \n",
              "1     47.8315      1  \n",
              "2     51.9378      1  \n",
              "3     41.1882      1  \n",
              "4     42.6666      1  \n",
              "\n",
              "[5 rows x 35 columns]"
            ],
            "text/html": [
              "\n",
              "  <div id=\"df-20094bc6-1c03-41c6-8880-df7e2757bf2d\">\n",
              "    <div class=\"colab-df-container\">\n",
              "      <div>\n",
              "<style scoped>\n",
              "    .dataframe tbody tr th:only-of-type {\n",
              "        vertical-align: middle;\n",
              "    }\n",
              "\n",
              "    .dataframe tbody tr th {\n",
              "        vertical-align: top;\n",
              "    }\n",
              "\n",
              "    .dataframe thead th {\n",
              "        text-align: right;\n",
              "    }\n",
              "</style>\n",
              "<table border=\"1\" class=\"dataframe\">\n",
              "  <thead>\n",
              "    <tr style=\"text-align: right;\">\n",
              "      <th></th>\n",
              "      <th>AREA</th>\n",
              "      <th>PERIMETER</th>\n",
              "      <th>MAJOR_AXIS</th>\n",
              "      <th>MINOR_AXIS</th>\n",
              "      <th>ECCENTRICITY</th>\n",
              "      <th>EQDIASQ</th>\n",
              "      <th>SOLIDITY</th>\n",
              "      <th>CONVEX_AREA</th>\n",
              "      <th>EXTENT</th>\n",
              "      <th>ASPECT_RATIO</th>\n",
              "      <th>...</th>\n",
              "      <th>KurtosisRR</th>\n",
              "      <th>KurtosisRG</th>\n",
              "      <th>KurtosisRB</th>\n",
              "      <th>EntropyRR</th>\n",
              "      <th>EntropyRG</th>\n",
              "      <th>EntropyRB</th>\n",
              "      <th>ALLdaub4RR</th>\n",
              "      <th>ALLdaub4RG</th>\n",
              "      <th>ALLdaub4RB</th>\n",
              "      <th>Class</th>\n",
              "    </tr>\n",
              "  </thead>\n",
              "  <tbody>\n",
              "    <tr>\n",
              "      <th>0</th>\n",
              "      <td>422163</td>\n",
              "      <td>2378.908</td>\n",
              "      <td>837.8484</td>\n",
              "      <td>645.6693</td>\n",
              "      <td>0.6373</td>\n",
              "      <td>733.1539</td>\n",
              "      <td>0.9947</td>\n",
              "      <td>424428</td>\n",
              "      <td>0.7831</td>\n",
              "      <td>1.2976</td>\n",
              "      <td>...</td>\n",
              "      <td>3.2370</td>\n",
              "      <td>2.9574</td>\n",
              "      <td>4.2287</td>\n",
              "      <td>-59191263232</td>\n",
              "      <td>-50714214400</td>\n",
              "      <td>-39922372608</td>\n",
              "      <td>58.7255</td>\n",
              "      <td>54.9554</td>\n",
              "      <td>47.8400</td>\n",
              "      <td>1</td>\n",
              "    </tr>\n",
              "    <tr>\n",
              "      <th>1</th>\n",
              "      <td>338136</td>\n",
              "      <td>2085.144</td>\n",
              "      <td>723.8198</td>\n",
              "      <td>595.2073</td>\n",
              "      <td>0.5690</td>\n",
              "      <td>656.1464</td>\n",
              "      <td>0.9974</td>\n",
              "      <td>339014</td>\n",
              "      <td>0.7795</td>\n",
              "      <td>1.2161</td>\n",
              "      <td>...</td>\n",
              "      <td>2.6228</td>\n",
              "      <td>2.6350</td>\n",
              "      <td>3.1704</td>\n",
              "      <td>-34233065472</td>\n",
              "      <td>-37462601728</td>\n",
              "      <td>-31477794816</td>\n",
              "      <td>50.0259</td>\n",
              "      <td>52.8168</td>\n",
              "      <td>47.8315</td>\n",
              "      <td>1</td>\n",
              "    </tr>\n",
              "    <tr>\n",
              "      <th>2</th>\n",
              "      <td>526843</td>\n",
              "      <td>2647.394</td>\n",
              "      <td>940.7379</td>\n",
              "      <td>715.3638</td>\n",
              "      <td>0.6494</td>\n",
              "      <td>819.0222</td>\n",
              "      <td>0.9962</td>\n",
              "      <td>528876</td>\n",
              "      <td>0.7657</td>\n",
              "      <td>1.3150</td>\n",
              "      <td>...</td>\n",
              "      <td>3.7516</td>\n",
              "      <td>3.8611</td>\n",
              "      <td>4.7192</td>\n",
              "      <td>-93948354560</td>\n",
              "      <td>-74738221056</td>\n",
              "      <td>-60311207936</td>\n",
              "      <td>65.4772</td>\n",
              "      <td>59.2860</td>\n",
              "      <td>51.9378</td>\n",
              "      <td>1</td>\n",
              "    </tr>\n",
              "    <tr>\n",
              "      <th>3</th>\n",
              "      <td>416063</td>\n",
              "      <td>2351.210</td>\n",
              "      <td>827.9804</td>\n",
              "      <td>645.2988</td>\n",
              "      <td>0.6266</td>\n",
              "      <td>727.8378</td>\n",
              "      <td>0.9948</td>\n",
              "      <td>418255</td>\n",
              "      <td>0.7759</td>\n",
              "      <td>1.2831</td>\n",
              "      <td>...</td>\n",
              "      <td>5.0401</td>\n",
              "      <td>8.6136</td>\n",
              "      <td>8.2618</td>\n",
              "      <td>-32074307584</td>\n",
              "      <td>-32060925952</td>\n",
              "      <td>-29575010304</td>\n",
              "      <td>43.3900</td>\n",
              "      <td>44.1259</td>\n",
              "      <td>41.1882</td>\n",
              "      <td>1</td>\n",
              "    </tr>\n",
              "    <tr>\n",
              "      <th>4</th>\n",
              "      <td>347562</td>\n",
              "      <td>2160.354</td>\n",
              "      <td>763.9877</td>\n",
              "      <td>582.8359</td>\n",
              "      <td>0.6465</td>\n",
              "      <td>665.2291</td>\n",
              "      <td>0.9908</td>\n",
              "      <td>350797</td>\n",
              "      <td>0.7569</td>\n",
              "      <td>1.3108</td>\n",
              "      <td>...</td>\n",
              "      <td>2.7016</td>\n",
              "      <td>2.9761</td>\n",
              "      <td>4.4146</td>\n",
              "      <td>-39980974080</td>\n",
              "      <td>-35980042240</td>\n",
              "      <td>-25593278464</td>\n",
              "      <td>52.7743</td>\n",
              "      <td>50.9080</td>\n",
              "      <td>42.6666</td>\n",
              "      <td>1</td>\n",
              "    </tr>\n",
              "  </tbody>\n",
              "</table>\n",
              "<p>5 rows × 35 columns</p>\n",
              "</div>\n",
              "      <button class=\"colab-df-convert\" onclick=\"convertToInteractive('df-20094bc6-1c03-41c6-8880-df7e2757bf2d')\"\n",
              "              title=\"Convert this dataframe to an interactive table.\"\n",
              "              style=\"display:none;\">\n",
              "        \n",
              "  <svg xmlns=\"http://www.w3.org/2000/svg\" height=\"24px\"viewBox=\"0 0 24 24\"\n",
              "       width=\"24px\">\n",
              "    <path d=\"M0 0h24v24H0V0z\" fill=\"none\"/>\n",
              "    <path d=\"M18.56 5.44l.94 2.06.94-2.06 2.06-.94-2.06-.94-.94-2.06-.94 2.06-2.06.94zm-11 1L8.5 8.5l.94-2.06 2.06-.94-2.06-.94L8.5 2.5l-.94 2.06-2.06.94zm10 10l.94 2.06.94-2.06 2.06-.94-2.06-.94-.94-2.06-.94 2.06-2.06.94z\"/><path d=\"M17.41 7.96l-1.37-1.37c-.4-.4-.92-.59-1.43-.59-.52 0-1.04.2-1.43.59L10.3 9.45l-7.72 7.72c-.78.78-.78 2.05 0 2.83L4 21.41c.39.39.9.59 1.41.59.51 0 1.02-.2 1.41-.59l7.78-7.78 2.81-2.81c.8-.78.8-2.07 0-2.86zM5.41 20L4 18.59l7.72-7.72 1.47 1.35L5.41 20z\"/>\n",
              "  </svg>\n",
              "      </button>\n",
              "      \n",
              "  <style>\n",
              "    .colab-df-container {\n",
              "      display:flex;\n",
              "      flex-wrap:wrap;\n",
              "      gap: 12px;\n",
              "    }\n",
              "\n",
              "    .colab-df-convert {\n",
              "      background-color: #E8F0FE;\n",
              "      border: none;\n",
              "      border-radius: 50%;\n",
              "      cursor: pointer;\n",
              "      display: none;\n",
              "      fill: #1967D2;\n",
              "      height: 32px;\n",
              "      padding: 0 0 0 0;\n",
              "      width: 32px;\n",
              "    }\n",
              "\n",
              "    .colab-df-convert:hover {\n",
              "      background-color: #E2EBFA;\n",
              "      box-shadow: 0px 1px 2px rgba(60, 64, 67, 0.3), 0px 1px 3px 1px rgba(60, 64, 67, 0.15);\n",
              "      fill: #174EA6;\n",
              "    }\n",
              "\n",
              "    [theme=dark] .colab-df-convert {\n",
              "      background-color: #3B4455;\n",
              "      fill: #D2E3FC;\n",
              "    }\n",
              "\n",
              "    [theme=dark] .colab-df-convert:hover {\n",
              "      background-color: #434B5C;\n",
              "      box-shadow: 0px 1px 3px 1px rgba(0, 0, 0, 0.15);\n",
              "      filter: drop-shadow(0px 1px 2px rgba(0, 0, 0, 0.3));\n",
              "      fill: #FFFFFF;\n",
              "    }\n",
              "  </style>\n",
              "\n",
              "      <script>\n",
              "        const buttonEl =\n",
              "          document.querySelector('#df-20094bc6-1c03-41c6-8880-df7e2757bf2d button.colab-df-convert');\n",
              "        buttonEl.style.display =\n",
              "          google.colab.kernel.accessAllowed ? 'block' : 'none';\n",
              "\n",
              "        async function convertToInteractive(key) {\n",
              "          const element = document.querySelector('#df-20094bc6-1c03-41c6-8880-df7e2757bf2d');\n",
              "          const dataTable =\n",
              "            await google.colab.kernel.invokeFunction('convertToInteractive',\n",
              "                                                     [key], {});\n",
              "          if (!dataTable) return;\n",
              "\n",
              "          const docLinkHtml = 'Like what you see? Visit the ' +\n",
              "            '<a target=\"_blank\" href=https://colab.research.google.com/notebooks/data_table.ipynb>data table notebook</a>'\n",
              "            + ' to learn more about interactive tables.';\n",
              "          element.innerHTML = '';\n",
              "          dataTable['output_type'] = 'display_data';\n",
              "          await google.colab.output.renderOutput(dataTable, element);\n",
              "          const docLink = document.createElement('div');\n",
              "          docLink.innerHTML = docLinkHtml;\n",
              "          element.appendChild(docLink);\n",
              "        }\n",
              "      </script>\n",
              "    </div>\n",
              "  </div>\n",
              "  "
            ]
          },
          "metadata": {},
          "execution_count": 91
        }
      ]
    },
    {
      "cell_type": "code",
      "source": [
        "Xf = data.iloc[:, 0:-1]\n",
        "yf = data.iloc[:, -1]\n",
        "print(Xf.shape, yf.shape)"
      ],
      "metadata": {
        "colab": {
          "base_uri": "https://localhost:8080/"
        },
        "id": "rLvAXCTl0AHC",
        "outputId": "705c0a16-5e8c-4434-bfeb-a881dad24589"
      },
      "execution_count": null,
      "outputs": [
        {
          "output_type": "stream",
          "name": "stdout",
          "text": [
            "(898, 34) (898,)\n"
          ]
        }
      ]
    },
    {
      "cell_type": "markdown",
      "source": [
        "# **Seperating data**\n",
        "\n",
        "This dataset used percent training = 70 %"
      ],
      "metadata": {
        "id": "F7qUzEh_L8sm"
      }
    },
    {
      "cell_type": "code",
      "source": [
        "percent_train = 0.7\n",
        "idx, X_train, y_train, X_test, y_test, y_labels_name, y_labels_new = partition(Xf, yf, percent_train)"
      ],
      "metadata": {
        "id": "w0OmhaSy0V_J"
      },
      "execution_count": null,
      "outputs": []
    },
    {
      "cell_type": "code",
      "source": [
        "print(X_train.shape, y_train.shape, X_test.shape, y_test.shape)"
      ],
      "metadata": {
        "colab": {
          "base_uri": "https://localhost:8080/"
        },
        "id": "MF87rPEW0m_g",
        "outputId": "d95fb721-c0f1-4538-ca67-60a33ecd1d94"
      },
      "execution_count": null,
      "outputs": [
        {
          "output_type": "stream",
          "name": "stdout",
          "text": [
            "(628, 34) (628,) (270, 34) (270,)\n"
          ]
        }
      ]
    },
    {
      "cell_type": "code",
      "source": [
        "X_train.shape"
      ],
      "metadata": {
        "colab": {
          "base_uri": "https://localhost:8080/"
        },
        "id": "_1yDatgs2734",
        "outputId": "bbcbd78f-d48b-499a-9033-4850ac7a285e"
      },
      "execution_count": null,
      "outputs": [
        {
          "output_type": "execute_result",
          "data": {
            "text/plain": [
              "(628, 34)"
            ]
          },
          "metadata": {},
          "execution_count": 95
        }
      ]
    },
    {
      "cell_type": "markdown",
      "source": [
        "# **Data normalization**"
      ],
      "metadata": {
        "id": "MkdmeAH2MRsS"
      }
    },
    {
      "cell_type": "code",
      "source": [
        "def normalization(X):\n",
        "    \"\"\"\n",
        "    Take in numpy array of X values and return normalize X values,\n",
        "    the mean and standard deviation of each feature\n",
        "    \"\"\"\n",
        "    X_norm = None\n",
        "\n",
        "    X_norm = (X-np.mean(X))/(np.std(X))\n",
        "    return X_norm"
      ],
      "metadata": {
        "id": "g_O_2oJM58Wy"
      },
      "execution_count": null,
      "outputs": []
    },
    {
      "cell_type": "code",
      "source": [
        "X_norm_train = normalization(X_train)\n",
        "X_norm_train"
      ],
      "metadata": {
        "colab": {
          "base_uri": "https://localhost:8080/",
          "height": 488
        },
        "id": "VJlb6NN96Or5",
        "outputId": "38b25f2e-5f48-407b-8f54-5b1d0dc3dd3a"
      },
      "execution_count": null,
      "outputs": [
        {
          "output_type": "execute_result",
          "data": {
            "text/plain": [
              "         AREA  PERIMETER  MAJOR_AXIS  MINOR_AXIS  ECCENTRICITY   EQDIASQ  \\\n",
              "0    0.060312   0.090832    0.234109    0.008993      0.407285  0.152294   \n",
              "1   -0.311386   0.775066    0.960014   -0.970174      1.871712 -0.203333   \n",
              "2   -1.447809  -1.557555   -1.593399   -1.279327      0.006738 -1.499655   \n",
              "3   -0.032619   0.207518    0.597626   -0.390368      1.191014  0.065655   \n",
              "4    1.664942   1.171699    0.898375    1.772883     -1.461163  1.471793   \n",
              "..        ...        ...         ...         ...           ...       ...   \n",
              "623  0.758946   0.634187    0.528251    0.821198     -0.418120  0.763102   \n",
              "624  1.157409   0.721002    0.610959    1.296264     -1.101134  1.084723   \n",
              "625 -0.142890  -0.050793    0.006109   -0.123054      0.332037 -0.039055   \n",
              "626  1.055550   0.688976    0.528292    1.236603     -1.139336  1.004107   \n",
              "627 -0.424144  -0.485515   -0.590753   -0.085392     -0.636916 -0.316389   \n",
              "\n",
              "     SOLIDITY  CONVEX_AREA    EXTENT  ASPECT_RATIO  ...    SkewRB  KurtosisRR  \\\n",
              "0    0.317591     0.043528 -0.391525      0.183594  ...  1.048614   -0.121287   \n",
              "1   -1.297846    -0.256687 -4.004409      3.494940  ...  0.466147    1.400094   \n",
              "2    0.495764    -1.464487  0.487692     -0.248361  ... -0.764867   -0.135706   \n",
              "3   -0.507945    -0.009550 -1.477838      1.438298  ...  2.302317    2.416531   \n",
              "4    0.662059     1.617823  1.304780     -1.263039  ...  1.275009    0.156512   \n",
              "..        ...          ...       ...           ...  ...       ...         ...   \n",
              "623  0.341347     0.738952 -0.062054     -0.616494  ... -0.297005   -0.753212   \n",
              "624  0.846172     1.102275  0.310719     -1.071573  ...  1.757445    1.744657   \n",
              "625 -0.014999    -0.143810 -0.675811      0.095723  ... -0.079553   -0.741698   \n",
              "626  0.703633     1.011163 -0.229613     -1.093772  ...  0.234121    0.303173   \n",
              "627  0.608607    -0.451162  1.112745     -0.777899  ... -0.427510   -0.761010   \n",
              "\n",
              "     KurtosisRG  KurtosisRB  EntropyRR  EntropyRG  EntropyRB  ALLdaub4RR  \\\n",
              "0      2.657573    0.757720   1.207136   1.137595   0.909073   -1.503844   \n",
              "1      0.877152   -0.105438   1.207314   1.079524   0.909887   -1.517171   \n",
              "2     -0.523132   -0.621612   0.428546   0.411319   0.552704    0.753812   \n",
              "3      2.814433    3.938177   1.412430   1.424211   1.534064   -2.072477   \n",
              "4      0.117534    1.915850  -0.653304  -0.951870  -0.772829   -0.125253   \n",
              "..          ...         ...        ...        ...        ...         ...   \n",
              "623   -0.822882   -0.598291  -0.906844  -0.919812  -0.700545    0.386627   \n",
              "624    0.910403    2.092834   0.511573   0.184564  -0.091770   -0.862473   \n",
              "625   -0.842164   -0.512801   0.226008   0.315507   0.716304   -0.174781   \n",
              "626    0.635961    0.971763   0.146055  -0.150586  -0.729800   -0.518817   \n",
              "627   -0.881221   -0.924955  -0.240226  -0.192622  -0.368343    0.518807   \n",
              "\n",
              "     ALLdaub4RG  ALLdaub4RB  \n",
              "0     -1.421329   -1.161051  \n",
              "1     -1.233186   -0.999507  \n",
              "2      0.900614    0.900019  \n",
              "3     -1.982636   -2.394252  \n",
              "4     -0.013926   -0.308619  \n",
              "..          ...         ...  \n",
              "623    0.306778    0.145324  \n",
              "624   -0.656920   -0.640785  \n",
              "625   -0.298232   -0.855535  \n",
              "626   -0.336266   -0.000192  \n",
              "627    0.393865    0.660088  \n",
              "\n",
              "[628 rows x 34 columns]"
            ],
            "text/html": [
              "\n",
              "  <div id=\"df-b22a5d17-c554-4235-a9b4-132648eefb84\">\n",
              "    <div class=\"colab-df-container\">\n",
              "      <div>\n",
              "<style scoped>\n",
              "    .dataframe tbody tr th:only-of-type {\n",
              "        vertical-align: middle;\n",
              "    }\n",
              "\n",
              "    .dataframe tbody tr th {\n",
              "        vertical-align: top;\n",
              "    }\n",
              "\n",
              "    .dataframe thead th {\n",
              "        text-align: right;\n",
              "    }\n",
              "</style>\n",
              "<table border=\"1\" class=\"dataframe\">\n",
              "  <thead>\n",
              "    <tr style=\"text-align: right;\">\n",
              "      <th></th>\n",
              "      <th>AREA</th>\n",
              "      <th>PERIMETER</th>\n",
              "      <th>MAJOR_AXIS</th>\n",
              "      <th>MINOR_AXIS</th>\n",
              "      <th>ECCENTRICITY</th>\n",
              "      <th>EQDIASQ</th>\n",
              "      <th>SOLIDITY</th>\n",
              "      <th>CONVEX_AREA</th>\n",
              "      <th>EXTENT</th>\n",
              "      <th>ASPECT_RATIO</th>\n",
              "      <th>...</th>\n",
              "      <th>SkewRB</th>\n",
              "      <th>KurtosisRR</th>\n",
              "      <th>KurtosisRG</th>\n",
              "      <th>KurtosisRB</th>\n",
              "      <th>EntropyRR</th>\n",
              "      <th>EntropyRG</th>\n",
              "      <th>EntropyRB</th>\n",
              "      <th>ALLdaub4RR</th>\n",
              "      <th>ALLdaub4RG</th>\n",
              "      <th>ALLdaub4RB</th>\n",
              "    </tr>\n",
              "  </thead>\n",
              "  <tbody>\n",
              "    <tr>\n",
              "      <th>0</th>\n",
              "      <td>0.060312</td>\n",
              "      <td>0.090832</td>\n",
              "      <td>0.234109</td>\n",
              "      <td>0.008993</td>\n",
              "      <td>0.407285</td>\n",
              "      <td>0.152294</td>\n",
              "      <td>0.317591</td>\n",
              "      <td>0.043528</td>\n",
              "      <td>-0.391525</td>\n",
              "      <td>0.183594</td>\n",
              "      <td>...</td>\n",
              "      <td>1.048614</td>\n",
              "      <td>-0.121287</td>\n",
              "      <td>2.657573</td>\n",
              "      <td>0.757720</td>\n",
              "      <td>1.207136</td>\n",
              "      <td>1.137595</td>\n",
              "      <td>0.909073</td>\n",
              "      <td>-1.503844</td>\n",
              "      <td>-1.421329</td>\n",
              "      <td>-1.161051</td>\n",
              "    </tr>\n",
              "    <tr>\n",
              "      <th>1</th>\n",
              "      <td>-0.311386</td>\n",
              "      <td>0.775066</td>\n",
              "      <td>0.960014</td>\n",
              "      <td>-0.970174</td>\n",
              "      <td>1.871712</td>\n",
              "      <td>-0.203333</td>\n",
              "      <td>-1.297846</td>\n",
              "      <td>-0.256687</td>\n",
              "      <td>-4.004409</td>\n",
              "      <td>3.494940</td>\n",
              "      <td>...</td>\n",
              "      <td>0.466147</td>\n",
              "      <td>1.400094</td>\n",
              "      <td>0.877152</td>\n",
              "      <td>-0.105438</td>\n",
              "      <td>1.207314</td>\n",
              "      <td>1.079524</td>\n",
              "      <td>0.909887</td>\n",
              "      <td>-1.517171</td>\n",
              "      <td>-1.233186</td>\n",
              "      <td>-0.999507</td>\n",
              "    </tr>\n",
              "    <tr>\n",
              "      <th>2</th>\n",
              "      <td>-1.447809</td>\n",
              "      <td>-1.557555</td>\n",
              "      <td>-1.593399</td>\n",
              "      <td>-1.279327</td>\n",
              "      <td>0.006738</td>\n",
              "      <td>-1.499655</td>\n",
              "      <td>0.495764</td>\n",
              "      <td>-1.464487</td>\n",
              "      <td>0.487692</td>\n",
              "      <td>-0.248361</td>\n",
              "      <td>...</td>\n",
              "      <td>-0.764867</td>\n",
              "      <td>-0.135706</td>\n",
              "      <td>-0.523132</td>\n",
              "      <td>-0.621612</td>\n",
              "      <td>0.428546</td>\n",
              "      <td>0.411319</td>\n",
              "      <td>0.552704</td>\n",
              "      <td>0.753812</td>\n",
              "      <td>0.900614</td>\n",
              "      <td>0.900019</td>\n",
              "    </tr>\n",
              "    <tr>\n",
              "      <th>3</th>\n",
              "      <td>-0.032619</td>\n",
              "      <td>0.207518</td>\n",
              "      <td>0.597626</td>\n",
              "      <td>-0.390368</td>\n",
              "      <td>1.191014</td>\n",
              "      <td>0.065655</td>\n",
              "      <td>-0.507945</td>\n",
              "      <td>-0.009550</td>\n",
              "      <td>-1.477838</td>\n",
              "      <td>1.438298</td>\n",
              "      <td>...</td>\n",
              "      <td>2.302317</td>\n",
              "      <td>2.416531</td>\n",
              "      <td>2.814433</td>\n",
              "      <td>3.938177</td>\n",
              "      <td>1.412430</td>\n",
              "      <td>1.424211</td>\n",
              "      <td>1.534064</td>\n",
              "      <td>-2.072477</td>\n",
              "      <td>-1.982636</td>\n",
              "      <td>-2.394252</td>\n",
              "    </tr>\n",
              "    <tr>\n",
              "      <th>4</th>\n",
              "      <td>1.664942</td>\n",
              "      <td>1.171699</td>\n",
              "      <td>0.898375</td>\n",
              "      <td>1.772883</td>\n",
              "      <td>-1.461163</td>\n",
              "      <td>1.471793</td>\n",
              "      <td>0.662059</td>\n",
              "      <td>1.617823</td>\n",
              "      <td>1.304780</td>\n",
              "      <td>-1.263039</td>\n",
              "      <td>...</td>\n",
              "      <td>1.275009</td>\n",
              "      <td>0.156512</td>\n",
              "      <td>0.117534</td>\n",
              "      <td>1.915850</td>\n",
              "      <td>-0.653304</td>\n",
              "      <td>-0.951870</td>\n",
              "      <td>-0.772829</td>\n",
              "      <td>-0.125253</td>\n",
              "      <td>-0.013926</td>\n",
              "      <td>-0.308619</td>\n",
              "    </tr>\n",
              "    <tr>\n",
              "      <th>...</th>\n",
              "      <td>...</td>\n",
              "      <td>...</td>\n",
              "      <td>...</td>\n",
              "      <td>...</td>\n",
              "      <td>...</td>\n",
              "      <td>...</td>\n",
              "      <td>...</td>\n",
              "      <td>...</td>\n",
              "      <td>...</td>\n",
              "      <td>...</td>\n",
              "      <td>...</td>\n",
              "      <td>...</td>\n",
              "      <td>...</td>\n",
              "      <td>...</td>\n",
              "      <td>...</td>\n",
              "      <td>...</td>\n",
              "      <td>...</td>\n",
              "      <td>...</td>\n",
              "      <td>...</td>\n",
              "      <td>...</td>\n",
              "      <td>...</td>\n",
              "    </tr>\n",
              "    <tr>\n",
              "      <th>623</th>\n",
              "      <td>0.758946</td>\n",
              "      <td>0.634187</td>\n",
              "      <td>0.528251</td>\n",
              "      <td>0.821198</td>\n",
              "      <td>-0.418120</td>\n",
              "      <td>0.763102</td>\n",
              "      <td>0.341347</td>\n",
              "      <td>0.738952</td>\n",
              "      <td>-0.062054</td>\n",
              "      <td>-0.616494</td>\n",
              "      <td>...</td>\n",
              "      <td>-0.297005</td>\n",
              "      <td>-0.753212</td>\n",
              "      <td>-0.822882</td>\n",
              "      <td>-0.598291</td>\n",
              "      <td>-0.906844</td>\n",
              "      <td>-0.919812</td>\n",
              "      <td>-0.700545</td>\n",
              "      <td>0.386627</td>\n",
              "      <td>0.306778</td>\n",
              "      <td>0.145324</td>\n",
              "    </tr>\n",
              "    <tr>\n",
              "      <th>624</th>\n",
              "      <td>1.157409</td>\n",
              "      <td>0.721002</td>\n",
              "      <td>0.610959</td>\n",
              "      <td>1.296264</td>\n",
              "      <td>-1.101134</td>\n",
              "      <td>1.084723</td>\n",
              "      <td>0.846172</td>\n",
              "      <td>1.102275</td>\n",
              "      <td>0.310719</td>\n",
              "      <td>-1.071573</td>\n",
              "      <td>...</td>\n",
              "      <td>1.757445</td>\n",
              "      <td>1.744657</td>\n",
              "      <td>0.910403</td>\n",
              "      <td>2.092834</td>\n",
              "      <td>0.511573</td>\n",
              "      <td>0.184564</td>\n",
              "      <td>-0.091770</td>\n",
              "      <td>-0.862473</td>\n",
              "      <td>-0.656920</td>\n",
              "      <td>-0.640785</td>\n",
              "    </tr>\n",
              "    <tr>\n",
              "      <th>625</th>\n",
              "      <td>-0.142890</td>\n",
              "      <td>-0.050793</td>\n",
              "      <td>0.006109</td>\n",
              "      <td>-0.123054</td>\n",
              "      <td>0.332037</td>\n",
              "      <td>-0.039055</td>\n",
              "      <td>-0.014999</td>\n",
              "      <td>-0.143810</td>\n",
              "      <td>-0.675811</td>\n",
              "      <td>0.095723</td>\n",
              "      <td>...</td>\n",
              "      <td>-0.079553</td>\n",
              "      <td>-0.741698</td>\n",
              "      <td>-0.842164</td>\n",
              "      <td>-0.512801</td>\n",
              "      <td>0.226008</td>\n",
              "      <td>0.315507</td>\n",
              "      <td>0.716304</td>\n",
              "      <td>-0.174781</td>\n",
              "      <td>-0.298232</td>\n",
              "      <td>-0.855535</td>\n",
              "    </tr>\n",
              "    <tr>\n",
              "      <th>626</th>\n",
              "      <td>1.055550</td>\n",
              "      <td>0.688976</td>\n",
              "      <td>0.528292</td>\n",
              "      <td>1.236603</td>\n",
              "      <td>-1.139336</td>\n",
              "      <td>1.004107</td>\n",
              "      <td>0.703633</td>\n",
              "      <td>1.011163</td>\n",
              "      <td>-0.229613</td>\n",
              "      <td>-1.093772</td>\n",
              "      <td>...</td>\n",
              "      <td>0.234121</td>\n",
              "      <td>0.303173</td>\n",
              "      <td>0.635961</td>\n",
              "      <td>0.971763</td>\n",
              "      <td>0.146055</td>\n",
              "      <td>-0.150586</td>\n",
              "      <td>-0.729800</td>\n",
              "      <td>-0.518817</td>\n",
              "      <td>-0.336266</td>\n",
              "      <td>-0.000192</td>\n",
              "    </tr>\n",
              "    <tr>\n",
              "      <th>627</th>\n",
              "      <td>-0.424144</td>\n",
              "      <td>-0.485515</td>\n",
              "      <td>-0.590753</td>\n",
              "      <td>-0.085392</td>\n",
              "      <td>-0.636916</td>\n",
              "      <td>-0.316389</td>\n",
              "      <td>0.608607</td>\n",
              "      <td>-0.451162</td>\n",
              "      <td>1.112745</td>\n",
              "      <td>-0.777899</td>\n",
              "      <td>...</td>\n",
              "      <td>-0.427510</td>\n",
              "      <td>-0.761010</td>\n",
              "      <td>-0.881221</td>\n",
              "      <td>-0.924955</td>\n",
              "      <td>-0.240226</td>\n",
              "      <td>-0.192622</td>\n",
              "      <td>-0.368343</td>\n",
              "      <td>0.518807</td>\n",
              "      <td>0.393865</td>\n",
              "      <td>0.660088</td>\n",
              "    </tr>\n",
              "  </tbody>\n",
              "</table>\n",
              "<p>628 rows × 34 columns</p>\n",
              "</div>\n",
              "      <button class=\"colab-df-convert\" onclick=\"convertToInteractive('df-b22a5d17-c554-4235-a9b4-132648eefb84')\"\n",
              "              title=\"Convert this dataframe to an interactive table.\"\n",
              "              style=\"display:none;\">\n",
              "        \n",
              "  <svg xmlns=\"http://www.w3.org/2000/svg\" height=\"24px\"viewBox=\"0 0 24 24\"\n",
              "       width=\"24px\">\n",
              "    <path d=\"M0 0h24v24H0V0z\" fill=\"none\"/>\n",
              "    <path d=\"M18.56 5.44l.94 2.06.94-2.06 2.06-.94-2.06-.94-.94-2.06-.94 2.06-2.06.94zm-11 1L8.5 8.5l.94-2.06 2.06-.94-2.06-.94L8.5 2.5l-.94 2.06-2.06.94zm10 10l.94 2.06.94-2.06 2.06-.94-2.06-.94-.94-2.06-.94 2.06-2.06.94z\"/><path d=\"M17.41 7.96l-1.37-1.37c-.4-.4-.92-.59-1.43-.59-.52 0-1.04.2-1.43.59L10.3 9.45l-7.72 7.72c-.78.78-.78 2.05 0 2.83L4 21.41c.39.39.9.59 1.41.59.51 0 1.02-.2 1.41-.59l7.78-7.78 2.81-2.81c.8-.78.8-2.07 0-2.86zM5.41 20L4 18.59l7.72-7.72 1.47 1.35L5.41 20z\"/>\n",
              "  </svg>\n",
              "      </button>\n",
              "      \n",
              "  <style>\n",
              "    .colab-df-container {\n",
              "      display:flex;\n",
              "      flex-wrap:wrap;\n",
              "      gap: 12px;\n",
              "    }\n",
              "\n",
              "    .colab-df-convert {\n",
              "      background-color: #E8F0FE;\n",
              "      border: none;\n",
              "      border-radius: 50%;\n",
              "      cursor: pointer;\n",
              "      display: none;\n",
              "      fill: #1967D2;\n",
              "      height: 32px;\n",
              "      padding: 0 0 0 0;\n",
              "      width: 32px;\n",
              "    }\n",
              "\n",
              "    .colab-df-convert:hover {\n",
              "      background-color: #E2EBFA;\n",
              "      box-shadow: 0px 1px 2px rgba(60, 64, 67, 0.3), 0px 1px 3px 1px rgba(60, 64, 67, 0.15);\n",
              "      fill: #174EA6;\n",
              "    }\n",
              "\n",
              "    [theme=dark] .colab-df-convert {\n",
              "      background-color: #3B4455;\n",
              "      fill: #D2E3FC;\n",
              "    }\n",
              "\n",
              "    [theme=dark] .colab-df-convert:hover {\n",
              "      background-color: #434B5C;\n",
              "      box-shadow: 0px 1px 3px 1px rgba(0, 0, 0, 0.15);\n",
              "      filter: drop-shadow(0px 1px 2px rgba(0, 0, 0, 0.3));\n",
              "      fill: #FFFFFF;\n",
              "    }\n",
              "  </style>\n",
              "\n",
              "      <script>\n",
              "        const buttonEl =\n",
              "          document.querySelector('#df-b22a5d17-c554-4235-a9b4-132648eefb84 button.colab-df-convert');\n",
              "        buttonEl.style.display =\n",
              "          google.colab.kernel.accessAllowed ? 'block' : 'none';\n",
              "\n",
              "        async function convertToInteractive(key) {\n",
              "          const element = document.querySelector('#df-b22a5d17-c554-4235-a9b4-132648eefb84');\n",
              "          const dataTable =\n",
              "            await google.colab.kernel.invokeFunction('convertToInteractive',\n",
              "                                                     [key], {});\n",
              "          if (!dataTable) return;\n",
              "\n",
              "          const docLinkHtml = 'Like what you see? Visit the ' +\n",
              "            '<a target=\"_blank\" href=https://colab.research.google.com/notebooks/data_table.ipynb>data table notebook</a>'\n",
              "            + ' to learn more about interactive tables.';\n",
              "          element.innerHTML = '';\n",
              "          dataTable['output_type'] = 'display_data';\n",
              "          await google.colab.output.renderOutput(dataTable, element);\n",
              "          const docLink = document.createElement('div');\n",
              "          docLink.innerHTML = docLinkHtml;\n",
              "          element.appendChild(docLink);\n",
              "        }\n",
              "      </script>\n",
              "    </div>\n",
              "  </div>\n",
              "  "
            ]
          },
          "metadata": {},
          "execution_count": 97
        }
      ]
    },
    {
      "cell_type": "code",
      "source": [
        "X_norm_train.insert(0, \"intercept\", 1)\n",
        "X_norm_train.shape"
      ],
      "metadata": {
        "colab": {
          "base_uri": "https://localhost:8080/"
        },
        "id": "Oe5mSCHR6V0J",
        "outputId": "304da62f-eff4-41f8-a64f-d7a8d51f6ac4"
      },
      "execution_count": null,
      "outputs": [
        {
          "output_type": "execute_result",
          "data": {
            "text/plain": [
              "(628, 35)"
            ]
          },
          "metadata": {},
          "execution_count": 98
        }
      ]
    },
    {
      "cell_type": "code",
      "source": [
        "m, n = X_train.shape\n",
        "num_class = len(data['Class'].unique())\n",
        "\n",
        "\n",
        "theta_initial = np.ones((num_class, n+1))\n",
        "alpha = .001\n",
        "iterations = 100\n",
        "\n",
        "# theta = None blabla\n",
        "\n",
        "theta = gradient_descent(X_norm_train, y_train, theta_initial, alpha, iterations, num_class)"
      ],
      "metadata": {
        "id": "xsh4q3Xi0tS5"
      },
      "execution_count": null,
      "outputs": []
    },
    {
      "cell_type": "code",
      "source": [
        "#X_test.drop(columns=['intercept'], inplace=True)\n",
        "X_norm_test = normalization(X_test)\n",
        "X_norm_test.insert(0, \"intercept\", 1)"
      ],
      "metadata": {
        "id": "iZmmlI1u85he"
      },
      "execution_count": null,
      "outputs": []
    },
    {
      "cell_type": "code",
      "source": [
        "X_test.insert(0, \"intercept\", 1)"
      ],
      "metadata": {
        "id": "m-p3EWNYCI8K"
      },
      "execution_count": null,
      "outputs": []
    },
    {
      "cell_type": "code",
      "source": [
        "# Prediction on test data \n",
        "# X_test.insert(0, \"intercept\", 1)\n",
        "\n",
        "# Reset m and n for test data\n",
        "r,c = X_norm_test.shape\n",
        "print(r,c)\n",
        "\n",
        "y_pred = []\n",
        "for index,row in X_norm_test.iterrows(): # get a row of X_test data\n",
        "    # calculate y_hat using hypothesis function\n",
        "    y_hat = None\n",
        "\n",
        "    # find the index (integer value) of maximum value in y_hat and input back to prediction\n",
        "    prediction = None\n",
        "    # YOUR CODE HERE\n",
        "\n",
        "    y_hat = h(row, theta, num_class)\n",
        "    prediction = int(np.argmax(y_hat))\n",
        "\n",
        "   # raise NotImplementedError()\n",
        "    # collect the result\n",
        "    y_pred.append(prediction)"
      ],
      "metadata": {
        "colab": {
          "base_uri": "https://localhost:8080/"
        },
        "id": "GW0rGhsn7KYb",
        "outputId": "6cf9e057-c5b9-46cc-e024-7b5324546b2e"
      },
      "execution_count": null,
      "outputs": [
        {
          "output_type": "stream",
          "name": "stdout",
          "text": [
            "270 35\n"
          ]
        }
      ]
    },
    {
      "cell_type": "code",
      "source": [
        "accuracyf = calc_accuracy(y_test, y_pred)\n",
        "print(\"The Accuracy is :\", accuracyf)"
      ],
      "metadata": {
        "colab": {
          "base_uri": "https://localhost:8080/"
        },
        "id": "QhMlXSWE68di",
        "outputId": "31383661-3ab0-4aed-9818-d5c068926f22"
      },
      "execution_count": null,
      "outputs": [
        {
          "output_type": "stream",
          "name": "stdout",
          "text": [
            "The Accuracy is : 0.674074074074074\n"
          ]
        }
      ]
    },
    {
      "cell_type": "markdown",
      "source": [
        "# **Conclusion**\n",
        "\n",
        "Around the world, a large number of fruits of various varieties are grown. External appearance characteristics such as color, length, diameter, and shape identify the type of fruit. The outward look of the fruits is an important factor in determining the fruit type. Determining the type of fruits based on their outward appearance may need skill, which is time-consuming and labor-intensive. \n",
        "\n",
        "The purpose of this study is to use multinomial logistic regression methods to classify the date fruit varieties Barhee, Deglet Nour, Sukkary, Rotab Mozafati, Ruthana, Safawi, and Sagai. I use alpha  .004 and  iterations = 100\n",
        "\n",
        "The accuracy is 67.7 %\n",
        "\n",
        "\n",
        "**Reference:** https://www.kaggle.com/datasets/muratkokludataset/date-fruit-datasets/code?fbclid=IwAR0SjEPjeV-hry6hDY1uUfj70BThJsTAkOaXlDJF7h6F6jwGLtdzuCrCspA"
      ],
      "metadata": {
        "id": "bTLo__vbIVew"
      }
    },
    {
      "cell_type": "code",
      "source": [],
      "metadata": {
        "id": "SufiIcO8ETAY"
      },
      "execution_count": null,
      "outputs": []
    }
  ],
  "metadata": {
    "kernelspec": {
      "display_name": "Python 3",
      "language": "python",
      "name": "python3"
    },
    "language_info": {
      "codemirror_mode": {
        "name": "ipython",
        "version": 3
      },
      "file_extension": ".py",
      "mimetype": "text/x-python",
      "name": "python",
      "nbconvert_exporter": "python",
      "pygments_lexer": "ipython3",
      "version": "3.8.3"
    },
    "colab": {
      "provenance": [],
      "collapsed_sections": [],
      "include_colab_link": true
    }
  },
  "nbformat": 4,
  "nbformat_minor": 0
}